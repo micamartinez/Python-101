{
 "cells": [
  {
   "cell_type": "markdown",
   "id": "1dde0960",
   "metadata": {},
   "source": [
    "_____\n",
    "### Exercise 1"
   ]
  },
  {
   "cell_type": "markdown",
   "id": "defb9ba1",
   "metadata": {},
   "source": [
    "We are going to create a class called Person. Its attributes are: name, age and ID.\n",
    "Create the following methods for the class:\n",
    "- A constructor, where the parameters can be empty.\n",
    "- display(): Shows the person's data.\n",
    "- is_of_legal_age(): Returns a logical value indicating whether it is of legal age."
   ]
  },
  {
   "cell_type": "code",
   "execution_count": 1,
   "id": "f861c999",
   "metadata": {},
   "outputs": [],
   "source": [
    "class Person:\n",
    "    def __init__(self, name='', age=0, ID=''):\n",
    "        self.name = name\n",
    "        self.age = age\n",
    "        self.ID = ID\n",
    "       \n",
    "    def display(self):\n",
    "        return f'''Name: {self.name}\\nAge: {self.age}\\nID: {self.ID}''' \n",
    "   \n",
    "    def is_of_legal_age(self): \n",
    "        if self.age >= 18:\n",
    "            return True\n",
    "        else:\n",
    "            return False"
   ]
  },
  {
   "cell_type": "code",
   "execution_count": 2,
   "id": "eb4daac4",
   "metadata": {},
   "outputs": [
    {
     "name": "stdout",
     "output_type": "stream",
     "text": [
      "Name: Laura\n",
      "Age: 22\n",
      "ID: 36188123\n",
      "True\n"
     ]
    }
   ],
   "source": [
    "laura = Person('Laura', 22, '36188123')\n",
    "print(laura.display())\n",
    "print(laura.is_of_legal_age())"
   ]
  },
  {
   "cell_type": "markdown",
   "id": "e1a38f71",
   "metadata": {},
   "source": [
    "_____\n",
    "### Exercise 2"
   ]
  },
  {
   "cell_type": "markdown",
   "id": "4cb0b7df",
   "metadata": {},
   "source": [
    "Create a class called Account that will have the following attributes: holder (which is a person) and amount (can have decimals). The holder will be mandatory and the amount is optional. Build the following methods for the class:\n",
    "\n",
    "- A constructor, where the parameters can be empty.\n",
    "- The attribute cannot be modified directly, only by entering or withdrawing money.\n",
    "- display(): Shows the account's data.\n",
    "- deposit(money): an amount is entered into the account, if the amount entered is negative, nothing will be done.\n",
    "- withdraw(money): An amount is withdrawn from the account. The account may be in red numbers."
   ]
  },
  {
   "cell_type": "code",
   "execution_count": 3,
   "id": "4d5ed03d",
   "metadata": {},
   "outputs": [],
   "source": [
    "class Account:\n",
    "    def __init__(self, holder=Person(), amount=0.0): \n",
    "        self.holder = holder\n",
    "        self.amount = amount \n",
    "\n",
    "    def display(self):\n",
    "        print(self.holder.display())\n",
    "        print(f'Amount --> {self.amount}')\n",
    "        \n",
    "    def deposit(self, money):\n",
    "        if money >= 0:\n",
    "            self.amount += money\n",
    "            print(f'The current amount available is {self.amount} pesos.')\n",
    "\n",
    "    def withdraw(self, money):\n",
    "        self.amount -= money\n",
    "        print(f'The current amount available is {self.amount} pesos.') \n",
    "\n",
    "\n",
    "account = Account(laura, 25000)"
   ]
  },
  {
   "cell_type": "code",
   "execution_count": 4,
   "id": "1e5bf450",
   "metadata": {},
   "outputs": [
    {
     "name": "stdout",
     "output_type": "stream",
     "text": [
      "Name: Laura\n",
      "Age: 22\n",
      "ID: 36188123\n",
      "Amount --> 25000\n"
     ]
    }
   ],
   "source": [
    "account.display()"
   ]
  },
  {
   "cell_type": "code",
   "execution_count": 5,
   "id": "970b4d09",
   "metadata": {},
   "outputs": [
    {
     "name": "stdout",
     "output_type": "stream",
     "text": [
      "The current amount available is 26000 pesos.\n"
     ]
    }
   ],
   "source": [
    "account.deposit(1000)"
   ]
  },
  {
   "cell_type": "code",
   "execution_count": 6,
   "id": "2b509ae4",
   "metadata": {},
   "outputs": [
    {
     "name": "stdout",
     "output_type": "stream",
     "text": [
      "The current amount available is 21000 pesos.\n"
     ]
    }
   ],
   "source": [
    "account.withdraw(5000)"
   ]
  },
  {
   "cell_type": "code",
   "execution_count": 7,
   "id": "d3de3fcc",
   "metadata": {},
   "outputs": [
    {
     "data": {
      "text/plain": [
       "21000"
      ]
     },
     "execution_count": 7,
     "metadata": {},
     "output_type": "execute_result"
    }
   ],
   "source": [
    "account.amount"
   ]
  },
  {
   "cell_type": "markdown",
   "id": "861ba7d9",
   "metadata": {},
   "source": [
    "_____\n",
    "### Exercise 3"
   ]
  },
  {
   "cell_type": "markdown",
   "id": "749cb21f",
   "metadata": {},
   "source": [
    "We are now going to define a \"Youth Account\", for this we are going to create a new class YouthAccount that derives from the previous one. When this new class is created, in addition to the holder and the amount must be saved a bonus that will be expressed as per hundred.\n",
    "Build the following methods for the class:\n",
    "\n",
    "- A constructor.\n",
    "- On this occasion, the holders of this type of account must be older than 18, therefore you have to create a method valid_holder() that returns true if the holder is of legal age but under 25 years old and false if contrary.\n",
    "- In addition, the withdrawal of money can only be done if the holder is valid.\n",
    "- The display() method should return the \"Youth Account\" message and the account bonus."
   ]
  },
  {
   "cell_type": "code",
   "execution_count": 8,
   "id": "374a7d14",
   "metadata": {},
   "outputs": [],
   "source": [
    "class YouthAccount(Account):\n",
    "    def __init__(self, holder, amount, bonus):\n",
    "        super().__init__(holder, amount)\n",
    "        self.bonus = bonus      \n",
    "        \n",
    "    def valid_holder(self):\n",
    "        if self.holder.is_of_legal_age() and self.holder.age < 25: \n",
    "            return True\n",
    "        else:\n",
    "            return False\n",
    "        \n",
    "    def withdraw(self):\n",
    "        if self.valid_holder():\n",
    "            r = float(input('Enter amount to withdraw: '))\n",
    "            self.amount -= r\n",
    "            \n",
    "    def display(self):\n",
    "        print('Youth Account')\n",
    "        print(self.holder.display())\n",
    "        print(f'''Amount --> {self.amount}\\nBonus --> {self.bonus}''')"
   ]
  },
  {
   "cell_type": "code",
   "execution_count": 9,
   "id": "0bb38d56",
   "metadata": {},
   "outputs": [],
   "source": [
    "account_2 = YouthAccount(laura, 20000, 50)"
   ]
  },
  {
   "cell_type": "code",
   "execution_count": 10,
   "id": "1883e440",
   "metadata": {},
   "outputs": [
    {
     "data": {
      "text/plain": [
       "True"
      ]
     },
     "execution_count": 10,
     "metadata": {},
     "output_type": "execute_result"
    }
   ],
   "source": [
    "account_2.valid_holder()"
   ]
  },
  {
   "cell_type": "code",
   "execution_count": 11,
   "id": "ac48ee48",
   "metadata": {},
   "outputs": [
    {
     "name": "stdout",
     "output_type": "stream",
     "text": [
      "Enter amount to withdraw: 5000\n"
     ]
    }
   ],
   "source": [
    "account_2.withdraw()"
   ]
  },
  {
   "cell_type": "code",
   "execution_count": 12,
   "id": "34e09759",
   "metadata": {},
   "outputs": [
    {
     "data": {
      "text/plain": [
       "15000.0"
      ]
     },
     "execution_count": 12,
     "metadata": {},
     "output_type": "execute_result"
    }
   ],
   "source": [
    "account_2.amount"
   ]
  },
  {
   "cell_type": "code",
   "execution_count": 13,
   "id": "cff528ef",
   "metadata": {},
   "outputs": [
    {
     "name": "stdout",
     "output_type": "stream",
     "text": [
      "Youth Account\n",
      "Name: Laura\n",
      "Age: 22\n",
      "ID: 36188123\n",
      "Amount --> 15000.0\n",
      "Bonus --> 50\n"
     ]
    }
   ],
   "source": [
    "account_2.display()"
   ]
  }
 ],
 "metadata": {
  "kernelspec": {
   "display_name": "Python 3",
   "language": "python",
   "name": "python3"
  },
  "language_info": {
   "codemirror_mode": {
    "name": "ipython",
    "version": 3
   },
   "file_extension": ".py",
   "mimetype": "text/x-python",
   "name": "python",
   "nbconvert_exporter": "python",
   "pygments_lexer": "ipython3",
   "version": "3.8.8"
  }
 },
 "nbformat": 4,
 "nbformat_minor": 5
}
