{
 "cells": [
  {
   "cell_type": "markdown",
   "id": "232b9513",
   "metadata": {},
   "source": [
    "_____\n",
    "**Exercise 1**\n",
    "\n",
    "- Create a class called Point with its two coordinates x and y.\n",
    "- Add a constructor declaration to easily create points. If it doesn't receive a coordinate, its values will be zero.\n",
    "- Override the string method, so that when printing a point on the screen appear in **(X, Y)** format.\n",
    "- Add a method called quadrant that indicates to which quadrant the point belongs, taking into account that if X == 0 and Y! = 0 is located on the Y axis, if X! = 0 and Y == 0 is located on the X axis and if X == 0 and Y == 0 is on the origin.\n",
    "- Add a method called vector, which takes another point and calculates the vector resulting between the two points.\n",
    "- Add a method called distance, which takes another point and calculates the distance between the two points and displays it on the screen."
   ]
  },
  {
   "cell_type": "code",
   "execution_count": 1,
   "id": "300ec8fa",
   "metadata": {},
   "outputs": [
    {
     "data": {
      "text/plain": [
       "'(5, 6)'"
      ]
     },
     "execution_count": 1,
     "metadata": {},
     "output_type": "execute_result"
    }
   ],
   "source": [
    "import math  \n",
    "\n",
    "\n",
    "class Point:\n",
    "    def __init__(self, x=0, y=0):\n",
    "        self.x = x\n",
    "        self.y = y\n",
    "        \n",
    "    def __str__(self):\n",
    "        return f'({self.x}, {self.y})' \n",
    "   \n",
    "    def quadrant(self):\n",
    "        if self.x > 0 and self.y > 0:\n",
    "            print(f'{self} is located in quadrant I')  \n",
    "        elif self.x < 0 and self.y > 0:\n",
    "            print(f'{self} is located in quadrant II')\n",
    "        elif self.x < 0 and self.y < 0:\n",
    "            print(f'{self} is located in quadrant III')\n",
    "        elif self.x > 0 and self.y < 0:\n",
    "            print(f'{self} is located in quadrant IV')\n",
    "        elif self.x == 0 and self.y != 0:\n",
    "            print(f'{self} is located on the y-axis')\n",
    "        elif self.x != 0 and self.y == 0:\n",
    "            print(f'{self} is located on the x-axis')\n",
    "        else: \n",
    "            print(f'{self} is located at the origin')\n",
    "                \n",
    "    def vector(self, p):  \n",
    "        vector_x, vector_y = p.x - self.x, p.y - self.y\n",
    "        print(f'{vector_x, vector_y}')\n",
    "   \n",
    "    def distance(self, p):\n",
    "        vector_x, vector_y = p.x - self.x, p.y - self.y\n",
    "        d = math.sqrt(vector_x**2 + pow(vector_y, 2)) \n",
    "        print(d)\n",
    "        \n",
    "        \n",
    "point = Point(5, 6)\n",
    "point.__str__() "
   ]
  },
  {
   "cell_type": "markdown",
   "id": "ae0dd081",
   "metadata": {},
   "source": [
    "_____\n",
    "**Exercise 2**\n",
    "\n",
    "- Create a class called Rectangle with two points (start and final) that will form the diagonal of the rectangle.\n",
    "- Add a constructor declaration to create both points easily.\n",
    "- Add a method called base that returns the base of the rectangle.\n",
    "- Add a method called height that returns the height of the rectangle.\n",
    "- Add a method called area that returns the area of the rectangle."
   ]
  },
  {
   "cell_type": "code",
   "execution_count": 2,
   "id": "71f41f3f",
   "metadata": {},
   "outputs": [],
   "source": [
    "class Rectangle: \n",
    "    def __init__(self, start_p=Point(), final_p=Point()): \n",
    "        self.start_p = start_p\n",
    "        self.final_p = final_p\n",
    "    \n",
    "    def base(self):\n",
    "        b = abs(self.final_p.x - self.start_p.x) \n",
    "        return b\n",
    "    \n",
    "    def height(self):\n",
    "        h = abs(self.final_p.y - self.start_p.y)\n",
    "        return h\n",
    "    \n",
    "    def area(self):\n",
    "        area = self.base() * self.height()\n",
    "        return area"
   ]
  },
  {
   "cell_type": "markdown",
   "id": "a7f09113",
   "metadata": {},
   "source": [
    "_____\n",
    "- Create the points A (2, 3), B (5,5), C (-3, -1) and D (0,0) and print them on the screen."
   ]
  },
  {
   "cell_type": "code",
   "execution_count": 3,
   "id": "3bf77652",
   "metadata": {},
   "outputs": [
    {
     "name": "stdout",
     "output_type": "stream",
     "text": [
      "(2, 3)\n",
      "(5, 5)\n",
      "(-3, -1)\n",
      "(0, 0)\n"
     ]
    }
   ],
   "source": [
    "A = Point(2, 3)\n",
    "print(A)\n",
    "B = Point(5, 5)\n",
    "print(B)\n",
    "C = Point(-3, -1)\n",
    "print(C)\n",
    "D = Point(0, 0)\n",
    "print(D)"
   ]
  },
  {
   "cell_type": "markdown",
   "id": "6f87fbbe",
   "metadata": {},
   "source": [
    "_____\n",
    "- Check which quadrant point A, C and D belong to."
   ]
  },
  {
   "cell_type": "code",
   "execution_count": 4,
   "id": "8a20dd94",
   "metadata": {},
   "outputs": [
    {
     "name": "stdout",
     "output_type": "stream",
     "text": [
      "(2, 3) is located in quadrant I\n",
      "(-3, -1) is located in quadrant III\n",
      "(0, 0) is located at the origin\n"
     ]
    }
   ],
   "source": [
    "A.quadrant()\n",
    "C.quadrant()\n",
    "D.quadrant()"
   ]
  },
  {
   "cell_type": "markdown",
   "id": "0ccc66fd",
   "metadata": {},
   "source": [
    "_____\n",
    "- Consult the vectors AB and BA."
   ]
  },
  {
   "cell_type": "code",
   "execution_count": 5,
   "id": "0b776424",
   "metadata": {},
   "outputs": [
    {
     "name": "stdout",
     "output_type": "stream",
     "text": [
      "(3, 2)\n",
      "(-3, -2)\n"
     ]
    }
   ],
   "source": [
    "A.vector(B) # B - A\n",
    "B.vector(A) # A - B"
   ]
  },
  {
   "cell_type": "markdown",
   "id": "91346c82",
   "metadata": {},
   "source": [
    "_____\n",
    "- Check the distance between points 'A and B' and 'B and A'"
   ]
  },
  {
   "cell_type": "code",
   "execution_count": 6,
   "id": "fc56e688",
   "metadata": {},
   "outputs": [
    {
     "name": "stdout",
     "output_type": "stream",
     "text": [
      "3.605551275463989\n"
     ]
    }
   ],
   "source": [
    "A.distance(B)"
   ]
  },
  {
   "cell_type": "code",
   "execution_count": 7,
   "id": "5098e393",
   "metadata": {},
   "outputs": [
    {
     "name": "stdout",
     "output_type": "stream",
     "text": [
      "3.605551275463989\n"
     ]
    }
   ],
   "source": [
    "B.distance(A)"
   ]
  },
  {
   "cell_type": "markdown",
   "id": "79081964",
   "metadata": {},
   "source": [
    "_____\n",
    "- Determine which of the 3 points A, B or C is farthest from the origin"
   ]
  },
  {
   "cell_type": "code",
   "execution_count": 8,
   "id": "cdddf8b8",
   "metadata": {},
   "outputs": [
    {
     "name": "stdout",
     "output_type": "stream",
     "text": [
      "3.605551275463989\n"
     ]
    }
   ],
   "source": [
    "A.distance(D)"
   ]
  },
  {
   "cell_type": "code",
   "execution_count": 9,
   "id": "fc21f11f",
   "metadata": {},
   "outputs": [
    {
     "name": "stdout",
     "output_type": "stream",
     "text": [
      "7.0710678118654755\n"
     ]
    }
   ],
   "source": [
    "# B is the farthest point from the origin\n",
    "B.distance(D) "
   ]
  },
  {
   "cell_type": "code",
   "execution_count": 10,
   "id": "6c3bcf8e",
   "metadata": {},
   "outputs": [
    {
     "name": "stdout",
     "output_type": "stream",
     "text": [
      "3.1622776601683795\n"
     ]
    }
   ],
   "source": [
    "C.distance(D)"
   ]
  },
  {
   "cell_type": "markdown",
   "id": "208459c8",
   "metadata": {},
   "source": [
    "_____\n",
    "- Create a rectangle using points A and B.\n",
    "- Check the base, height and area of the rectangle"
   ]
  },
  {
   "cell_type": "code",
   "execution_count": 11,
   "id": "4411b926",
   "metadata": {},
   "outputs": [],
   "source": [
    "r = Rectangle(A, B)"
   ]
  },
  {
   "cell_type": "code",
   "execution_count": 12,
   "id": "b2ea80a2",
   "metadata": {},
   "outputs": [
    {
     "data": {
      "text/plain": [
       "3"
      ]
     },
     "execution_count": 12,
     "metadata": {},
     "output_type": "execute_result"
    }
   ],
   "source": [
    "r.base()"
   ]
  },
  {
   "cell_type": "code",
   "execution_count": 13,
   "id": "61d7ebf3",
   "metadata": {},
   "outputs": [
    {
     "data": {
      "text/plain": [
       "2"
      ]
     },
     "execution_count": 13,
     "metadata": {},
     "output_type": "execute_result"
    }
   ],
   "source": [
    "r.height()"
   ]
  },
  {
   "cell_type": "code",
   "execution_count": 14,
   "id": "b36a514b",
   "metadata": {},
   "outputs": [
    {
     "data": {
      "text/plain": [
       "6"
      ]
     },
     "execution_count": 14,
     "metadata": {},
     "output_type": "execute_result"
    }
   ],
   "source": [
    "r.area()"
   ]
  }
 ],
 "metadata": {
  "kernelspec": {
   "display_name": "Python 3",
   "language": "python",
   "name": "python3"
  },
  "language_info": {
   "codemirror_mode": {
    "name": "ipython",
    "version": 3
   },
   "file_extension": ".py",
   "mimetype": "text/x-python",
   "name": "python",
   "nbconvert_exporter": "python",
   "pygments_lexer": "ipython3",
   "version": "3.8.8"
  }
 },
 "nbformat": 4,
 "nbformat_minor": 5
}
