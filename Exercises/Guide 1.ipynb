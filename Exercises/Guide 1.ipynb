{
 "cells": [
  {
   "cell_type": "markdown",
   "id": "6c40d0ee",
   "metadata": {},
   "source": [
    "_____\n",
    "**Exercise 1**\n",
    "\n",
    "Create a program that shows the following message “Hello world!” on screen."
   ]
  },
  {
   "cell_type": "code",
   "execution_count": 1,
   "id": "d4c13899",
   "metadata": {},
   "outputs": [
    {
     "name": "stdout",
     "output_type": "stream",
     "text": [
      "Hello world!\n"
     ]
    }
   ],
   "source": [
    "print('Hello world!')"
   ]
  },
  {
   "cell_type": "markdown",
   "id": "0f017acc",
   "metadata": {},
   "source": [
    "_____\n",
    "**Exercise 2**\n",
    "\n",
    "Create a program that stores the message \"Hello world!\" in a variable and then prints it on the screen."
   ]
  },
  {
   "cell_type": "code",
   "execution_count": 2,
   "id": "ded9edd8",
   "metadata": {},
   "outputs": [
    {
     "name": "stdout",
     "output_type": "stream",
     "text": [
      "Hello world!\n"
     ]
    }
   ],
   "source": [
    "message = 'Hello world!'\n",
    "\n",
    "print(message)"
   ]
  },
  {
   "cell_type": "markdown",
   "id": "50737c60",
   "metadata": {},
   "source": [
    "_____\n",
    "**Exercise 3**\n",
    "\n",
    "Create a program that asks the user for their name and age and prints these data in different lines."
   ]
  },
  {
   "cell_type": "code",
   "execution_count": 3,
   "id": "b9acd7b5",
   "metadata": {},
   "outputs": [
    {
     "name": "stdout",
     "output_type": "stream",
     "text": [
      "Name: Micaela\n",
      "Age: 28\n",
      "Micaela\n",
      "28\n"
     ]
    }
   ],
   "source": [
    "name = input('Name: ')\n",
    "age = input('Age: ')\n",
    "\n",
    "print(name)\n",
    "print(age)"
   ]
  },
  {
   "cell_type": "markdown",
   "id": "95ef693a",
   "metadata": {},
   "source": [
    "_____\n",
    "**Exercise 4**\n",
    "\n",
    "Create a program that asks for the user's name and a whole number and prints on the screen,in different lines, the name of the user so many times as the number entered."
   ]
  },
  {
   "cell_type": "code",
   "execution_count": 4,
   "id": "d3163bcb",
   "metadata": {},
   "outputs": [
    {
     "name": "stdout",
     "output_type": "stream",
     "text": [
      "Name: Mica\n",
      "Enter a whole number: 3\n",
      "Mica\n",
      "Mica\n",
      "Mica\n"
     ]
    }
   ],
   "source": [
    "name = input('Name: ')\n",
    "number = int(input('Enter a whole number: '))\n",
    "\n",
    "for i in range(number):\n",
    "    print(name)"
   ]
  },
  {
   "cell_type": "markdown",
   "id": "ceb81908",
   "metadata": {},
   "source": [
    "_____\n",
    "**Exercise 5**\n",
    "\n",
    "Create a program that asks for the user's name and after the user enters it, it shows on the screen < NAME > has < n > letters."
   ]
  },
  {
   "cell_type": "code",
   "execution_count": 5,
   "id": "d71051d5",
   "metadata": {},
   "outputs": [
    {
     "name": "stdout",
     "output_type": "stream",
     "text": [
      "Enter your name: Micaela\n",
      "Micaela has 7 letters.\n"
     ]
    }
   ],
   "source": [
    "NAME = input('Enter your name: ')\n",
    "n = len(NAME) \n",
    "\n",
    "print(f'{NAME} has {n} letters.')"
   ]
  },
  {
   "cell_type": "markdown",
   "id": "2fe6f42f",
   "metadata": {},
   "source": [
    "_____\n",
    "**Exercise 6**\n",
    "\n",
    "Create a program that performs the following arithmetic operation [(3 + 2) / 2 * 5] 2. Show the result on the screen."
   ]
  },
  {
   "cell_type": "code",
   "execution_count": 6,
   "id": "640eed7c",
   "metadata": {},
   "outputs": [
    {
     "name": "stdout",
     "output_type": "stream",
     "text": [
      "156.25\n"
     ]
    }
   ],
   "source": [
    "result = ((3+2)/2*5)**2\n",
    "\n",
    "print(result)"
   ]
  },
  {
   "cell_type": "markdown",
   "id": "604f4bd0",
   "metadata": {},
   "source": [
    "_____\n",
    "**Exercise 7**\n",
    "\n",
    "Create a program that asks the user for two whole numbers and displays by screen dividing < n > into < m > gives a quotient    < q > and a remainder < r > where < n > and < m > are the numbers entered by the user, and < c > and < r > are the quotient and the rest of the integer division respectively."
   ]
  },
  {
   "cell_type": "code",
   "execution_count": 7,
   "id": "0ee8b081",
   "metadata": {},
   "outputs": [
    {
     "name": "stdout",
     "output_type": "stream",
     "text": [
      "Enter a number: 5\n",
      "Enter another number: 2\n",
      "The quotient is 2 and the remainder is 1.\n"
     ]
    }
   ],
   "source": [
    "n = int(input('Enter a number: '))\n",
    "m = int(input('Enter another number: '))\n",
    "q = n // m \n",
    "r = n % m\n",
    "\n",
    "print(f'The quotient is {q} and the remainder is {r}.')"
   ]
  },
  {
   "cell_type": "markdown",
   "id": "059e626e",
   "metadata": {},
   "source": [
    "_____\n",
    "**Exercise 8**\n",
    "\n",
    "Create a program that asks the user for an amount to invest, the annual interest and the number of years, and display the capital obtained in the investment."
   ]
  },
  {
   "cell_type": "code",
   "execution_count": 8,
   "id": "a0cd9e30",
   "metadata": {},
   "outputs": [
    {
     "name": "stdout",
     "output_type": "stream",
     "text": [
      "Amount to invest: 2500\n",
      "Annual interest: 25\n",
      "Years to invest: 4\n",
      "5000.0\n"
     ]
    }
   ],
   "source": [
    "capital = float(input('Amount to invest: '))\n",
    "annual_int = float(input('Annual interest: '))\n",
    "years = float(input('Years to invest: '))\n",
    "\n",
    "if annual_int > 1:\n",
    "    annual_int = annual_int / 100\n",
    "    \n",
    "capital_final = capital + capital*annual_int*years\n",
    "\n",
    "print(capital_final)"
   ]
  },
  {
   "cell_type": "markdown",
   "id": "f5ee0352",
   "metadata": {},
   "source": [
    "-----\n",
    "**Exercise 9**\n",
    "\n",
    "A toy store usually do mail order sales and the logistics company charges them by weight of each package so they must calculate the weight of the clowns and dolls that will come out in each package on demand. Each clown weighs 112g and each doll 75g. Create a program that reads the number of clowns and dolls sold in the last order and calculate the total weight of the package to be shipped."
   ]
  },
  {
   "cell_type": "code",
   "execution_count": 9,
   "id": "bd38d440",
   "metadata": {},
   "outputs": [
    {
     "name": "stdout",
     "output_type": "stream",
     "text": [
      "Number of clowns sold: 10\n",
      "Number of dolls sold: 15\n",
      "The total weight of the package is 2.245 kilos.\n"
     ]
    }
   ],
   "source": [
    "number_c = int(input('Number of clowns sold: '))\n",
    "number_d = int(input('Number of dolls sold: '))\n",
    "\n",
    "clown = 112 #grams\n",
    "doll = 75 #grams\n",
    "package = number_c * clown + number_d * doll\n",
    "\n",
    "if package < 1000:\n",
    "    print(f'The total weight of the package is {package} grams.')\n",
    "else:\n",
    "    package /= 1000\n",
    "    print(f'The total weight of the package is {package} kilos.')"
   ]
  },
  {
   "cell_type": "markdown",
   "id": "2f75cf18",
   "metadata": {},
   "source": [
    "-----\n",
    "**Exercise 10**\n",
    "\n",
    "Create a program that asks the user for their age and shows on the screen if the user is of legal age or not, being 18 years of legal age."
   ]
  },
  {
   "cell_type": "code",
   "execution_count": 10,
   "id": "e279d89a",
   "metadata": {},
   "outputs": [
    {
     "name": "stdout",
     "output_type": "stream",
     "text": [
      "How old are you? 12\n",
      "The user is a minor\n"
     ]
    }
   ],
   "source": [
    "age = int(input('How old are you? '))\n",
    "\n",
    "if age >= 18:\n",
    "    print('The user is of legal age')\n",
    "else:\n",
    "    print('The user is a minor')"
   ]
  },
  {
   "cell_type": "markdown",
   "id": "36943303",
   "metadata": {},
   "source": [
    "-----\n",
    "**Exercise 11**\n",
    "\n",
    "Create a program that stores the password string in a variable, asks the user for the password and prints on screen if the\n",
    "password entered by the user matches the one stored in the variable."
   ]
  },
  {
   "cell_type": "code",
   "execution_count": 11,
   "id": "9abf7db8",
   "metadata": {},
   "outputs": [
    {
     "name": "stdout",
     "output_type": "stream",
     "text": [
      "Password: Hi\n",
      "The passwords do not match.\n",
      "Password: hello\n",
      "The passwords do not match.\n",
      "Password: password\n",
      "The passwords match.\n"
     ]
    }
   ],
   "source": [
    "password = 'password'\n",
    "user = input('Password: ')\n",
    "\n",
    "while True:\n",
    "    if password == user:\n",
    "        print('The passwords match.')\n",
    "        break\n",
    "    else:\n",
    "        print('The passwords do not match.')\n",
    "        user = input('Password: ')"
   ]
  },
  {
   "cell_type": "markdown",
   "id": "f434dd09",
   "metadata": {},
   "source": [
    "-----\n",
    "**Exercise 12**\n",
    "\n",
    "Create a program that asks the user for two numbers and displays on the screen the division. If the divisor is zero, the program should return a message indicating that it cannot be divided by 0."
   ]
  },
  {
   "cell_type": "code",
   "execution_count": 12,
   "id": "2496f9dc",
   "metadata": {},
   "outputs": [
    {
     "name": "stdout",
     "output_type": "stream",
     "text": [
      "Enter a number: 5\n",
      "Enter another number: 0\n",
      "Division by zero is not possible\n",
      "Enter another number: 2\n",
      "2.5\n"
     ]
    }
   ],
   "source": [
    "number_1 = int(input('Enter a number: '))\n",
    "number_2 = int(input('Enter another number: '))\n",
    "\n",
    "while True:\n",
    "    if number_2 != 0:\n",
    "        division = number_1 / number_2\n",
    "        print(division)\n",
    "        break\n",
    "    else:\n",
    "        print('Division by zero is not possible')\n",
    "        number_2 = int(input('Enter another number: '))"
   ]
  },
  {
   "cell_type": "markdown",
   "id": "cb2a586f",
   "metadata": {},
   "source": [
    "-----\n",
    "**Exercise 13**\n",
    "\n",
    "Create a program that asks the user for an integer and displays whether it is odd or even."
   ]
  },
  {
   "cell_type": "code",
   "execution_count": 13,
   "id": "550cde58",
   "metadata": {},
   "outputs": [
    {
     "name": "stdout",
     "output_type": "stream",
     "text": [
      "Enter a number: 2\n",
      "2 is even\n"
     ]
    }
   ],
   "source": [
    "number = int(input('Enter a number: '))\n",
    "\n",
    "if number % 2 == 0:\n",
    "    print(f'{number} is even')\n",
    "else:\n",
    "    print(f'{number} is odd')"
   ]
  },
  {
   "cell_type": "markdown",
   "id": "ea3e797d",
   "metadata": {},
   "source": [
    "-----\n",
    "**Exercise 14**\n",
    "\n",
    "In a certain company, its employees are evaluated at the end of every year. The points they can get in the assessment start at 0.0 and can increase, translating into better benefits. The points they can get can be 0.0, 0.4, 0.6 or more, there are not intermediate values between the scores mentioned. Below there is a table with the levels corresponding to each score. The amount of money earned at each level is 100000 multiplied by the level score.\n",
    "\n",
    "| Level | Score   |\n",
    "|------|------|\n",
    "| Unacceptable | 0.0|\n",
    "| Acceptable | 0.4  |\n",
    "| Meritorious | 0.6 or more  |\n",
    "\n",
    "\n",
    "Create a program that reads the user's score and indicates their performance level, as well as the amount of money that the user will receive."
   ]
  },
  {
   "cell_type": "code",
   "execution_count": 14,
   "id": "3e928b38",
   "metadata": {},
   "outputs": [
    {
     "name": "stdout",
     "output_type": "stream",
     "text": [
      "Enter the points: 0.6\n",
      "Your performance is meritorious, you will receive 60000.0 pesos.\n"
     ]
    }
   ],
   "source": [
    "points = float(input('Enter the points: '))\n",
    "unacceptable = 0.0\n",
    "acceptable = 0.4\n",
    "meritorious = 0.6\n",
    "bonus = 100000\n",
    "\n",
    "if points == unacceptable:\n",
    "    bonus *= points \n",
    "    print(f'Your performance is unacceptable, you will receive {bonus} pesos.')\n",
    "elif points == acceptable:\n",
    "    bonus *= points\n",
    "    print(f'Your performance is acceptable, you will receive {bonus} pesos.')\n",
    "elif points >= meritorious:\n",
    "    bonus *= points\n",
    "    print(f'Your performance is meritorious, you will receive {bonus} pesos.')\n",
    "else:\n",
    "    print('You have not entered a correct score')"
   ]
  },
  {
   "cell_type": "markdown",
   "id": "809b2eef",
   "metadata": {},
   "source": [
    "-----\n",
    "**Exercise 15**\n",
    "\n",
    "Create a program for a company that has game rooms for all ages and wants to automatically calculate the price to charge to their customers. The program should ask the user the age of the client and show the price of the ticket. If the client is under 4 years old, they can enter for free, if they are between 4 and 18 years old they must pay 500 and if they are over 18 years old, 1000."
   ]
  },
  {
   "cell_type": "code",
   "execution_count": 15,
   "id": "6cb679d9",
   "metadata": {},
   "outputs": [
    {
     "name": "stdout",
     "output_type": "stream",
     "text": [
      "Enter your age: 22\n",
      "You must pay 1000 pesos\n"
     ]
    }
   ],
   "source": [
    "age = int(input('Enter your age: '))\n",
    "\n",
    "if 0 < age < 4:\n",
    "    print('Free ticket.')\n",
    "elif 4 <= age < 18:\n",
    "    print('You must pay 500 pesos')\n",
    "elif 18 <= age:\n",
    "    print('You must pay 1000 pesos')\n",
    "else:\n",
    "    print('You did not enter a correct number')\n"
   ]
  },
  {
   "cell_type": "markdown",
   "id": "7c8da0a3",
   "metadata": {},
   "source": [
    "-----\n",
    "**Exercise 16**\n",
    "\n",
    "Create a program that asks the user their age and shows by screen all the years he has turned (from 1 to current age)."
   ]
  },
  {
   "cell_type": "code",
   "execution_count": 16,
   "id": "e1b11976",
   "metadata": {},
   "outputs": [
    {
     "name": "stdout",
     "output_type": "stream",
     "text": [
      "How old are you? 5\n",
      "1\n",
      "2\n",
      "3\n",
      "4\n",
      "5\n"
     ]
    }
   ],
   "source": [
    "age = int(input('How old are you? '))\n",
    "\n",
    "for i in range(1, age + 1):\n",
    "    print(i)"
   ]
  },
  {
   "cell_type": "markdown",
   "id": "a7248d8c",
   "metadata": {},
   "source": [
    "-----\n",
    "**Exercise 17**\n",
    "\n",
    "Create a program that displays the multiplication table from 1 to 10 on the screen."
   ]
  },
  {
   "cell_type": "code",
   "execution_count": 17,
   "id": "5546a47f",
   "metadata": {},
   "outputs": [
    {
     "name": "stdout",
     "output_type": "stream",
     "text": [
      "Multiplication table of 1\n",
      "1 * 0 = 0\n",
      "1 * 1 = 1\n",
      "1 * 2 = 2\n",
      "1 * 3 = 3\n",
      "1 * 4 = 4\n",
      "1 * 5 = 5\n",
      "1 * 6 = 6\n",
      "1 * 7 = 7\n",
      "1 * 8 = 8\n",
      "1 * 9 = 9\n",
      "Multiplication table of 2\n",
      "2 * 0 = 0\n",
      "2 * 1 = 2\n",
      "2 * 2 = 4\n",
      "2 * 3 = 6\n",
      "2 * 4 = 8\n",
      "2 * 5 = 10\n",
      "2 * 6 = 12\n",
      "2 * 7 = 14\n",
      "2 * 8 = 16\n",
      "2 * 9 = 18\n",
      "Multiplication table of 3\n",
      "3 * 0 = 0\n",
      "3 * 1 = 3\n",
      "3 * 2 = 6\n",
      "3 * 3 = 9\n",
      "3 * 4 = 12\n",
      "3 * 5 = 15\n",
      "3 * 6 = 18\n",
      "3 * 7 = 21\n",
      "3 * 8 = 24\n",
      "3 * 9 = 27\n",
      "Multiplication table of 4\n",
      "4 * 0 = 0\n",
      "4 * 1 = 4\n",
      "4 * 2 = 8\n",
      "4 * 3 = 12\n",
      "4 * 4 = 16\n",
      "4 * 5 = 20\n",
      "4 * 6 = 24\n",
      "4 * 7 = 28\n",
      "4 * 8 = 32\n",
      "4 * 9 = 36\n",
      "Multiplication table of 5\n",
      "5 * 0 = 0\n",
      "5 * 1 = 5\n",
      "5 * 2 = 10\n",
      "5 * 3 = 15\n",
      "5 * 4 = 20\n",
      "5 * 5 = 25\n",
      "5 * 6 = 30\n",
      "5 * 7 = 35\n",
      "5 * 8 = 40\n",
      "5 * 9 = 45\n",
      "Multiplication table of 6\n",
      "6 * 0 = 0\n",
      "6 * 1 = 6\n",
      "6 * 2 = 12\n",
      "6 * 3 = 18\n",
      "6 * 4 = 24\n",
      "6 * 5 = 30\n",
      "6 * 6 = 36\n",
      "6 * 7 = 42\n",
      "6 * 8 = 48\n",
      "6 * 9 = 54\n",
      "Multiplication table of 7\n",
      "7 * 0 = 0\n",
      "7 * 1 = 7\n",
      "7 * 2 = 14\n",
      "7 * 3 = 21\n",
      "7 * 4 = 28\n",
      "7 * 5 = 35\n",
      "7 * 6 = 42\n",
      "7 * 7 = 49\n",
      "7 * 8 = 56\n",
      "7 * 9 = 63\n",
      "Multiplication table of 8\n",
      "8 * 0 = 0\n",
      "8 * 1 = 8\n",
      "8 * 2 = 16\n",
      "8 * 3 = 24\n",
      "8 * 4 = 32\n",
      "8 * 5 = 40\n",
      "8 * 6 = 48\n",
      "8 * 7 = 56\n",
      "8 * 8 = 64\n",
      "8 * 9 = 72\n",
      "Multiplication table of 9\n",
      "9 * 0 = 0\n",
      "9 * 1 = 9\n",
      "9 * 2 = 18\n",
      "9 * 3 = 27\n",
      "9 * 4 = 36\n",
      "9 * 5 = 45\n",
      "9 * 6 = 54\n",
      "9 * 7 = 63\n",
      "9 * 8 = 72\n",
      "9 * 9 = 81\n",
      "Multiplication table of 10\n",
      "10 * 0 = 0\n",
      "10 * 1 = 10\n",
      "10 * 2 = 20\n",
      "10 * 3 = 30\n",
      "10 * 4 = 40\n",
      "10 * 5 = 50\n",
      "10 * 6 = 60\n",
      "10 * 7 = 70\n",
      "10 * 8 = 80\n",
      "10 * 9 = 90\n"
     ]
    }
   ],
   "source": [
    "for i in range(1,11):\n",
    "    print(f'Multiplication table of {i}')\n",
    "    for j in range(10):\n",
    "        table = i * j\n",
    "        print(f'{i} * {j} = {table}')"
   ]
  },
  {
   "cell_type": "markdown",
   "id": "a4324ab5",
   "metadata": {},
   "source": [
    "-----\n",
    "**Exercise 18**\n",
    "\n",
    "Create a program that asks the user for a word and then displays the letters of the word entered one by one, starting with the last one."
   ]
  },
  {
   "cell_type": "code",
   "execution_count": 18,
   "id": "eeea414c",
   "metadata": {},
   "outputs": [
    {
     "name": "stdout",
     "output_type": "stream",
     "text": [
      "Enter a word: Hello, welcome\n",
      "e\n",
      "m\n",
      "o\n",
      "c\n",
      "l\n",
      "e\n",
      "w\n",
      " \n",
      ",\n",
      "o\n",
      "l\n",
      "l\n",
      "e\n",
      "H\n"
     ]
    }
   ],
   "source": [
    "word = input('Enter a word: ')\n",
    "\n",
    "for letter in reversed(word):\n",
    "    print(letter)"
   ]
  },
  {
   "cell_type": "markdown",
   "id": "30f95078",
   "metadata": {},
   "source": [
    "-----\n",
    "**Exercise 19**\n",
    "\n",
    "Create a program in which the user is asked for a phrase and a letter, and displays the number of times the letter appears in the phrase on the screen."
   ]
  },
  {
   "cell_type": "code",
   "execution_count": 19,
   "id": "97537a03",
   "metadata": {},
   "outputs": [
    {
     "name": "stdout",
     "output_type": "stream",
     "text": [
      "Write a phrase: Hello, welcome\n",
      "Write a letter: e\n",
      "The letter e appears 3 times in the phrase.\n"
     ]
    }
   ],
   "source": [
    "phrase = input('Write a phrase: ')\n",
    "letter = input('Write a letter: ')\n",
    "\n",
    "print(f'The letter {letter} appears {phrase.count(letter)} times in the phrase.')"
   ]
  },
  {
   "cell_type": "markdown",
   "id": "e16950a2",
   "metadata": {},
   "source": [
    "-----\n",
    "**Exercise 20**\n",
    "\n",
    "Create a program that will echo everything the user enters until the user types \"exit\" which will finish."
   ]
  },
  {
   "cell_type": "code",
   "execution_count": 20,
   "id": "b8d39b50",
   "metadata": {},
   "outputs": [
    {
     "name": "stdout",
     "output_type": "stream",
     "text": [
      "Write a word or write \"exit\" to finish: hi\n",
      "hi\n",
      "Write a word or write \"exit\" to finish: hello\n",
      "hello\n",
      "Write a word or write \"exit\" to finish: exit\n"
     ]
    }
   ],
   "source": [
    "while True:\n",
    "    word = input('Write a word or write \"exit\" to finish: ')\n",
    "    if word != 'exit':\n",
    "        print(word)\n",
    "    else:\n",
    "        break"
   ]
  },
  {
   "cell_type": "markdown",
   "id": "fb43fbf9",
   "metadata": {},
   "source": [
    "-----\n",
    "**Exercise 21**\n",
    "\n",
    "Create a program that stores the subjects of a course (for example Mathematics, Physics, Chemistry, History and Spanish) in a list and displays the message “I study subject” on the screen, where subject is each of the subjects on the list."
   ]
  },
  {
   "cell_type": "code",
   "execution_count": 21,
   "id": "99c8a28f",
   "metadata": {},
   "outputs": [
    {
     "name": "stdout",
     "output_type": "stream",
     "text": [
      "I study Mathematics.\n",
      "I study Physics.\n",
      "I study Chemistry.\n",
      "I study History.\n",
      "I study Spanish.\n"
     ]
    }
   ],
   "source": [
    "subjects_list = ['Mathematics', 'Physics', 'Chemistry', 'History', 'Spanish']\n",
    "\n",
    "for subject in subjects_list:\n",
    "    print(f'I study {subject}.')"
   ]
  },
  {
   "cell_type": "markdown",
   "id": "6f96f336",
   "metadata": {},
   "source": [
    "-----\n",
    "**Exercise 22**\n",
    "\n",
    "Create a program that saves the prices of the fruits in the table in a dictionary, asks the user for a fruit, a number of kilos and displays the price of that number of kilos of fruit on the screen. If the fruit is not in the dictionary, it must show a message informing about it.\n",
    "\n",
    "| Fruits | Price   |\n",
    "|------|------|\n",
    "| Banana | 80|\n",
    "| Apple | 100 |\n",
    "| Pear | 120 |\n",
    "| Orange | 150 |"
   ]
  },
  {
   "cell_type": "code",
   "execution_count": 22,
   "id": "dfc1eba6",
   "metadata": {},
   "outputs": [
    {
     "name": "stdout",
     "output_type": "stream",
     "text": [
      "Fruit of choice: apple\n",
      "kilos of fruit: 3\n",
      "You must pay 300.0 pesos.\n"
     ]
    }
   ],
   "source": [
    "fruits_dict = {\n",
    "    'Banana': 80,\n",
    "    'Apple': 100,\n",
    "    'Pear': 120,\n",
    "    'Orange': 150,\n",
    "}\n",
    "\n",
    "fruits = input('Fruit of choice: ').capitalize()  \n",
    "kilos = float(input('kilos of fruit: '))\n",
    "\n",
    "if fruits in fruits_dict:\n",
    "    price = fruits_dict[fruits] * kilos\n",
    "    print(f'You must pay {price} pesos.')\n",
    "else:\n",
    "    print('That fruit is not available')"
   ]
  },
  {
   "cell_type": "markdown",
   "id": "29252d94",
   "metadata": {},
   "source": [
    "-----\n",
    "**Exercise 23**\n",
    "\n",
    "Create a program that stores the dictionary with the credits of the subjects of a course {'Mathematics': 6, 'Physics': 4, 'Chemistry': 5} and then shows on the screen the credits of each subject in the format < subject > has < credits > credits, where < subject > is each of the subjects of the course, and < credits > are your credits. At the end it must also show the total number of credits of the course."
   ]
  },
  {
   "cell_type": "code",
   "execution_count": 23,
   "id": "08b7917d",
   "metadata": {},
   "outputs": [
    {
     "name": "stdout",
     "output_type": "stream",
     "text": [
      "Mathematics has 6 credits.\n",
      "Physics has 4 credits.\n",
      "Chemistry has 5 credits.\n",
      "The total number of credits is 15.\n"
     ]
    }
   ],
   "source": [
    "subjects = {'Mathematics': 6, 'Physics': 4, 'Chemistry': 5}\n",
    "total_cred = 0\n",
    "\n",
    "for i, k in subjects.items():\n",
    "    print(f'{i} has {k} credits.')\n",
    "    total_cred += k\n",
    "    \n",
    "print(f'The total number of credits is {total_cred}.')"
   ]
  }
 ],
 "metadata": {
  "kernelspec": {
   "display_name": "Python 3",
   "language": "python",
   "name": "python3"
  },
  "language_info": {
   "codemirror_mode": {
    "name": "ipython",
    "version": 3
   },
   "file_extension": ".py",
   "mimetype": "text/x-python",
   "name": "python",
   "nbconvert_exporter": "python",
   "pygments_lexer": "ipython3",
   "version": "3.8.8"
  }
 },
 "nbformat": 4,
 "nbformat_minor": 5
}
