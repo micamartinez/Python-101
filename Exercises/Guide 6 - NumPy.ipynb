{
 "cells": [
  {
   "cell_type": "code",
   "execution_count": 1,
   "id": "0cadd661",
   "metadata": {},
   "outputs": [],
   "source": [
    "import numpy as np"
   ]
  },
  {
   "cell_type": "markdown",
   "id": "7352a7e2",
   "metadata": {},
   "source": [
    "_____\n",
    "**Exercise 1**\n",
    "\n",
    "Create a vector with values in the range 10 to 49."
   ]
  },
  {
   "cell_type": "code",
   "execution_count": 2,
   "id": "17e12a9e",
   "metadata": {},
   "outputs": [
    {
     "data": {
      "text/plain": [
       "array([10, 11, 12, 13, 14, 15, 16, 17, 18, 19, 20, 21, 22, 23, 24, 25, 26,\n",
       "       27, 28, 29, 30, 31, 32, 33, 34, 35, 36, 37, 38, 39, 40, 41, 42, 43,\n",
       "       44, 45, 46, 47, 48, 49])"
      ]
     },
     "execution_count": 2,
     "metadata": {},
     "output_type": "execute_result"
    }
   ],
   "source": [
    "vector = np.arange(10, 50)\n",
    "vector"
   ]
  },
  {
   "cell_type": "markdown",
   "id": "f33b331c",
   "metadata": {},
   "source": [
    "_____\n",
    "**Exercise 2**\n",
    "\n",
    "Create a 3x3 matrix with values from 0 to 8."
   ]
  },
  {
   "cell_type": "code",
   "execution_count": 3,
   "id": "538f1c8c",
   "metadata": {},
   "outputs": [
    {
     "data": {
      "text/plain": [
       "array([[0, 1, 2],\n",
       "       [3, 4, 5],\n",
       "       [6, 7, 8]])"
      ]
     },
     "execution_count": 3,
     "metadata": {},
     "output_type": "execute_result"
    }
   ],
   "source": [
    "matrix = np.arange(0, 9).reshape(3, 3)\n",
    "matrix"
   ]
  },
  {
   "cell_type": "markdown",
   "id": "078f7195",
   "metadata": {},
   "source": [
    "_____\n",
    "**Exercise 3**\n",
    "\n",
    "Find the non-zero indexes of the array"
   ]
  },
  {
   "cell_type": "code",
   "execution_count": 4,
   "id": "3166abba",
   "metadata": {},
   "outputs": [
    {
     "data": {
      "text/plain": [
       "(array([ 0,  1,  2,  3,  4,  6, 10, 11, 12, 13, 14], dtype=int64),)"
      ]
     },
     "execution_count": 4,
     "metadata": {},
     "output_type": "execute_result"
    }
   ],
   "source": [
    "array = np.array([1,2,4,2,4,0,1,0,0,0,12,4,5,6,7,0])\n",
    "array.nonzero()"
   ]
  },
  {
   "cell_type": "markdown",
   "id": "7358bba2",
   "metadata": {},
   "source": [
    "_____\n",
    "**Exercise 4**\n",
    "\n",
    "Create a 6x6 identity matrix."
   ]
  },
  {
   "cell_type": "code",
   "execution_count": 5,
   "id": "a333061a",
   "metadata": {},
   "outputs": [
    {
     "data": {
      "text/plain": [
       "array([[1., 0., 0., 0., 0., 0.],\n",
       "       [0., 1., 0., 0., 0., 0.],\n",
       "       [0., 0., 1., 0., 0., 0.],\n",
       "       [0., 0., 0., 1., 0., 0.],\n",
       "       [0., 0., 0., 0., 1., 0.],\n",
       "       [0., 0., 0., 0., 0., 1.]])"
      ]
     },
     "execution_count": 5,
     "metadata": {},
     "output_type": "execute_result"
    }
   ],
   "source": [
    "matrix_2 = np.identity(6) \n",
    "matrix_2"
   ]
  },
  {
   "cell_type": "markdown",
   "id": "ce6f4bf0",
   "metadata": {},
   "source": [
    "_____\n",
    "**Exercise 5**\n",
    "\n",
    "Find the indices of the minimum and maximum values of the matrix created in exercise 2."
   ]
  },
  {
   "cell_type": "code",
   "execution_count": 6,
   "id": "9ac9accf",
   "metadata": {},
   "outputs": [
    {
     "data": {
      "text/plain": [
       "0"
      ]
     },
     "execution_count": 6,
     "metadata": {},
     "output_type": "execute_result"
    }
   ],
   "source": [
    "matrix.argmin()"
   ]
  },
  {
   "cell_type": "code",
   "execution_count": 7,
   "id": "afcf95dd",
   "metadata": {},
   "outputs": [
    {
     "data": {
      "text/plain": [
       "8"
      ]
     },
     "execution_count": 7,
     "metadata": {},
     "output_type": "execute_result"
    }
   ],
   "source": [
    "matrix.argmax()"
   ]
  },
  {
   "cell_type": "markdown",
   "id": "f3e60d83",
   "metadata": {},
   "source": [
    "**Exercise 6**\n",
    "\n",
    "Create a 10x10 matrix with 1 on the edges and 0 on the inside."
   ]
  },
  {
   "cell_type": "code",
   "execution_count": 8,
   "id": "5c6994ba",
   "metadata": {},
   "outputs": [
    {
     "data": {
      "text/plain": [
       "array([[1., 1., 1., 1., 1., 1., 1., 1., 1., 1.],\n",
       "       [1., 0., 0., 0., 0., 0., 0., 0., 0., 1.],\n",
       "       [1., 0., 0., 0., 0., 0., 0., 0., 0., 1.],\n",
       "       [1., 0., 0., 0., 0., 0., 0., 0., 0., 1.],\n",
       "       [1., 0., 0., 0., 0., 0., 0., 0., 0., 1.],\n",
       "       [1., 0., 0., 0., 0., 0., 0., 0., 0., 1.],\n",
       "       [1., 0., 0., 0., 0., 0., 0., 0., 0., 1.],\n",
       "       [1., 0., 0., 0., 0., 0., 0., 0., 0., 1.],\n",
       "       [1., 0., 0., 0., 0., 0., 0., 0., 0., 1.],\n",
       "       [1., 1., 1., 1., 1., 1., 1., 1., 1., 1.]])"
      ]
     },
     "execution_count": 8,
     "metadata": {},
     "output_type": "execute_result"
    }
   ],
   "source": [
    "matriz_3 = np.ones([10, 10])\n",
    "matriz_3[1:-1, 1:-1] = 0\n",
    "matriz_3"
   ]
  },
  {
   "cell_type": "markdown",
   "id": "42840b7d",
   "metadata": {},
   "source": [
    "_____\n",
    "**Exercise 7**\n",
    "\n",
    "Create a 5x5 matrix with values in each row ranging from 0 to 4."
   ]
  },
  {
   "cell_type": "code",
   "execution_count": 9,
   "id": "f76a8c25",
   "metadata": {},
   "outputs": [
    {
     "data": {
      "text/plain": [
       "array([[0, 1, 2, 3, 4],\n",
       "       [0, 1, 2, 3, 4],\n",
       "       [0, 1, 2, 3, 4],\n",
       "       [0, 1, 2, 3, 4],\n",
       "       [0, 1, 2, 3, 4]])"
      ]
     },
     "execution_count": 9,
     "metadata": {},
     "output_type": "execute_result"
    }
   ],
   "source": [
    "matrix_4 = np.tile(np.arange(0, 5), 5).reshape(5, 5) \n",
    "matrix_4"
   ]
  },
  {
   "cell_type": "markdown",
   "id": "f7918abd",
   "metadata": {},
   "source": [
    "_____\n",
    "**Exercise 8**\n",
    "\n",
    "Create two random arrays named A and B. Check if they are equal."
   ]
  },
  {
   "cell_type": "code",
   "execution_count": 10,
   "id": "7270c4f6",
   "metadata": {},
   "outputs": [
    {
     "data": {
      "text/plain": [
       "array([[False, False, False],\n",
       "       [False, False, False],\n",
       "       [False, False, False]])"
      ]
     },
     "execution_count": 10,
     "metadata": {},
     "output_type": "execute_result"
    }
   ],
   "source": [
    "A = np.random.random((3, 3))\n",
    "B = np.random.random((3, 3))\n",
    "\n",
    "np.equal(A, B)"
   ]
  },
  {
   "cell_type": "markdown",
   "id": "429a216b",
   "metadata": {},
   "source": [
    "_____\n",
    "**Exercise 9**\n",
    "\n",
    "Create a 20x20 matrix of random values between 1 and 100, then indicate their mean, median, mode, and standard deviation. Values that result in more than two numbers after the comma as floating points must have a maximum of 2."
   ]
  },
  {
   "cell_type": "code",
   "execution_count": 11,
   "id": "e3b25344",
   "metadata": {},
   "outputs": [],
   "source": [
    "np.random.seed(0)\n",
    "matrix_5 = np.random.randint(1, 101, (20, 20))"
   ]
  },
  {
   "cell_type": "code",
   "execution_count": 12,
   "id": "3ad61815",
   "metadata": {},
   "outputs": [
    {
     "data": {
      "text/plain": [
       "49.86"
      ]
     },
     "execution_count": 12,
     "metadata": {},
     "output_type": "execute_result"
    }
   ],
   "source": [
    "# media\n",
    "round(np.mean(matrix_5), 2) "
   ]
  },
  {
   "cell_type": "code",
   "execution_count": 13,
   "id": "9a92ae9a",
   "metadata": {},
   "outputs": [
    {
     "data": {
      "text/plain": [
       "48.0"
      ]
     },
     "execution_count": 13,
     "metadata": {},
     "output_type": "execute_result"
    }
   ],
   "source": [
    "# median\n",
    "round(np.median(matrix_5), 2) "
   ]
  },
  {
   "cell_type": "code",
   "execution_count": 14,
   "id": "f9a0dbd1",
   "metadata": {},
   "outputs": [
    {
     "data": {
      "text/plain": [
       "29"
      ]
     },
     "execution_count": 14,
     "metadata": {},
     "output_type": "execute_result"
    }
   ],
   "source": [
    "# standard deviation\n",
    "round(np.std(matrix_5)) "
   ]
  },
  {
   "cell_type": "code",
   "execution_count": 15,
   "id": "09e4287e",
   "metadata": {},
   "outputs": [],
   "source": [
    "from scipy import stats"
   ]
  },
  {
   "cell_type": "code",
   "execution_count": 16,
   "id": "824c2dff",
   "metadata": {},
   "outputs": [
    {
     "data": {
      "text/plain": [
       "ModeResult(mode=array([[ 1, 11, 26, 36,  4, 10, 70,  4, 41, 33, 20, 12, 83, 94,  1,  1,\n",
       "        30, 14,  6, 15]]), count=array([[1, 2, 2, 2, 1, 2, 2, 1, 2, 2, 2, 2, 2, 2, 2, 2, 2, 2, 2, 2]]))"
      ]
     },
     "execution_count": 16,
     "metadata": {},
     "output_type": "execute_result"
    }
   ],
   "source": [
    "# mode\n",
    "stats.mode(matrix_5) "
   ]
  },
  {
   "cell_type": "markdown",
   "id": "190edffb",
   "metadata": {},
   "source": [
    "_____\n",
    "**Exercise 10**\n",
    "\n",
    "Create two arrangements of 4 integer elements and do the following operations: add them, subtract the second from the first, multiply them, divide the first by the second. Do it using methods."
   ]
  },
  {
   "cell_type": "code",
   "execution_count": 17,
   "id": "cb4c22fd",
   "metadata": {},
   "outputs": [
    {
     "name": "stdout",
     "output_type": "stream",
     "text": [
      "[45 48 65 68]\n",
      "[68 10 84 22]\n"
     ]
    }
   ],
   "source": [
    "np.random.seed(0) \n",
    "C = np.random.randint(1, 100, 4) \n",
    "D = np.random.randint(1, 100, 4)\n",
    "print(C)\n",
    "print(D)"
   ]
  },
  {
   "cell_type": "code",
   "execution_count": 18,
   "id": "29ec065a",
   "metadata": {},
   "outputs": [
    {
     "data": {
      "text/plain": [
       "array([113,  58, 149,  90])"
      ]
     },
     "execution_count": 18,
     "metadata": {},
     "output_type": "execute_result"
    }
   ],
   "source": [
    "# C + D\n",
    "np.add(C, D) "
   ]
  },
  {
   "cell_type": "code",
   "execution_count": 19,
   "id": "3ebed07a",
   "metadata": {},
   "outputs": [
    {
     "data": {
      "text/plain": [
       "array([-23,  38, -19,  46])"
      ]
     },
     "execution_count": 19,
     "metadata": {},
     "output_type": "execute_result"
    }
   ],
   "source": [
    "# C - D\n",
    "np.subtract(C, D) "
   ]
  },
  {
   "cell_type": "code",
   "execution_count": 20,
   "id": "f3999ee2",
   "metadata": {},
   "outputs": [
    {
     "data": {
      "text/plain": [
       "array([3060,  480, 5460, 1496])"
      ]
     },
     "execution_count": 20,
     "metadata": {},
     "output_type": "execute_result"
    }
   ],
   "source": [
    "# C * D\n",
    "np.multiply(C, D) "
   ]
  },
  {
   "cell_type": "code",
   "execution_count": 21,
   "id": "77532a57",
   "metadata": {},
   "outputs": [
    {
     "data": {
      "text/plain": [
       "array([0.66176471, 4.8       , 0.77380952, 3.09090909])"
      ]
     },
     "execution_count": 21,
     "metadata": {},
     "output_type": "execute_result"
    }
   ],
   "source": [
    "# C / D\n",
    "np.divide(C, D) "
   ]
  },
  {
   "cell_type": "markdown",
   "id": "3573d0ca",
   "metadata": {},
   "source": [
    "_____\n",
    "**Exercise 11**\n",
    "\n",
    "Create a 4x4 array of random values ​​between 1 and 10, and then add a row of 0s to the end."
   ]
  },
  {
   "cell_type": "code",
   "execution_count": 22,
   "id": "e7abd4e2",
   "metadata": {},
   "outputs": [
    {
     "name": "stdout",
     "output_type": "stream",
     "text": [
      "[[ 6  1  4  4]\n",
      " [ 8 10  4  6]\n",
      " [ 3  5  8  7]\n",
      " [ 9  9  2  7]]\n",
      "\n",
      "[[ 6.  1.  4.  4.]\n",
      " [ 8. 10.  4.  6.]\n",
      " [ 3.  5.  8.  7.]\n",
      " [ 9.  9.  2.  7.]\n",
      " [ 0.  0.  0.  0.]]\n"
     ]
    }
   ],
   "source": [
    "np.random.seed(0)\n",
    "matrix_6 = np.random.randint(1, 11, (4, 4))\n",
    "print(matrix_6)\n",
    "print()\n",
    "matrix_6 = np.vstack([matrix_6, np.zeros(4)])\n",
    "print(matrix_6)"
   ]
  },
  {
   "cell_type": "markdown",
   "id": "20fa2ec5",
   "metadata": {},
   "source": [
    "_____\n",
    "**Exercise 12**\n",
    "\n",
    "Create an array of 4 elements between 0 and 10, report the number of elements it has and also how many bytes the array occupies."
   ]
  },
  {
   "cell_type": "code",
   "execution_count": 23,
   "id": "310cee5f",
   "metadata": {},
   "outputs": [
    {
     "data": {
      "text/plain": [
       "array([[5, 0, 3, 3]])"
      ]
     },
     "execution_count": 23,
     "metadata": {},
     "output_type": "execute_result"
    }
   ],
   "source": [
    "np.random.seed(0)\n",
    "array_2 = np.random.randint(0, 11, (1, 4))\n",
    "array_2"
   ]
  },
  {
   "cell_type": "code",
   "execution_count": 24,
   "id": "4492a2b6",
   "metadata": {},
   "outputs": [
    {
     "data": {
      "text/plain": [
       "4"
      ]
     },
     "execution_count": 24,
     "metadata": {},
     "output_type": "execute_result"
    }
   ],
   "source": [
    "# bytes of each element\n",
    "array_2.itemsize # bytes de cada elemento"
   ]
  },
  {
   "cell_type": "code",
   "execution_count": 25,
   "id": "1820dbfd",
   "metadata": {},
   "outputs": [
    {
     "data": {
      "text/plain": [
       "4"
      ]
     },
     "execution_count": 25,
     "metadata": {},
     "output_type": "execute_result"
    }
   ],
   "source": [
    "# number of elements\n",
    "array_2.size "
   ]
  },
  {
   "cell_type": "code",
   "execution_count": 26,
   "id": "9603795f",
   "metadata": {},
   "outputs": [
    {
     "data": {
      "text/plain": [
       "16"
      ]
     },
     "execution_count": 26,
     "metadata": {},
     "output_type": "execute_result"
    }
   ],
   "source": [
    "# bytes total of the array\n",
    "array_2.nbytes "
   ]
  }
 ],
 "metadata": {
  "kernelspec": {
   "display_name": "Python 3",
   "language": "python",
   "name": "python3"
  },
  "language_info": {
   "codemirror_mode": {
    "name": "ipython",
    "version": 3
   },
   "file_extension": ".py",
   "mimetype": "text/x-python",
   "name": "python",
   "nbconvert_exporter": "python",
   "pygments_lexer": "ipython3",
   "version": "3.8.8"
  }
 },
 "nbformat": 4,
 "nbformat_minor": 5
}
