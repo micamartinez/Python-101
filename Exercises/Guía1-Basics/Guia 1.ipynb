{
 "cells": [
  {
   "cell_type": "markdown",
   "id": "3f8d823d",
   "metadata": {},
   "source": [
    "Ejercicio 1: Crear un programa que imprima el mensaje “hello world!” por pantalla."
   ]
  },
  {
   "cell_type": "code",
   "execution_count": 1,
   "id": "b27d2936",
   "metadata": {
    "scrolled": false
   },
   "outputs": [
    {
     "name": "stdout",
     "output_type": "stream",
     "text": [
      "\"hello world!\"\n"
     ]
    }
   ],
   "source": [
    "'''Imprime un dato puro.\n",
    "No es incorrecto pero el dato no queda guardado en espacio de memoria. Además, si tiene que sufrir una modificación \n",
    "a través del código, voy a tener que modificarlo uno por uno. Alojando el dato en una variable (como en el ejercicio 2), \n",
    "esto no pasa.'''\n",
    "\n",
    "print('\"hello world!\"')\n"
   ]
  },
  {
   "cell_type": "markdown",
   "id": "c28efe8f",
   "metadata": {},
   "source": [
    "Ejercicio 2: Crear un programa que almacene el mensaje “hello world!” en una variable y luego lo imprima por pantalla.\n"
   ]
  },
  {
   "cell_type": "code",
   "execution_count": 2,
   "id": "a3d9cfec",
   "metadata": {},
   "outputs": [
    {
     "name": "stdout",
     "output_type": "stream",
     "text": [
      "\"hello world!\"\n"
     ]
    }
   ],
   "source": [
    "# es mejor porque ya le di el lugar a mi dato en una variable. Lo que manipulo a futuro es la variable y no el dato\n",
    "\n",
    "mensaje = '\"hello world!\"'\n",
    "print(mensaje)"
   ]
  },
  {
   "cell_type": "markdown",
   "id": "f5892ab3",
   "metadata": {},
   "source": [
    "Ejercicio 3: Crear un programa que pida al usuario nombre y edad e imprima dichos datos en renglones distintos.\n"
   ]
  },
  {
   "cell_type": "code",
   "execution_count": 2,
   "id": "da96a13b",
   "metadata": {},
   "outputs": [
    {
     "name": "stdout",
     "output_type": "stream",
     "text": [
      "Ingrese su nombre: Micaela\n",
      "Ingrese su edad: 29\n",
      "Micaela\n",
      "29\n"
     ]
    }
   ],
   "source": [
    "nombre = input('Ingrese su nombre: ') #se deja espacio para que no se pegue el cursor\n",
    "edad = input('Ingrese su edad: ') # en este caso no es necesario convertirlo en int\n",
    "\n",
    "''' Como el programa solo pide que imprimamos la edad, o sea que no va a ser utilizada como un numero, no es necesario\n",
    "convertirlo en un numero entero int(). Al convertirlo en un int() se consume más memoria y más tiempo de ejecución'''\n",
    "\n",
    "print(nombre)\n",
    "print(edad)"
   ]
  },
  {
   "cell_type": "code",
   "execution_count": 3,
   "id": "9d914829",
   "metadata": {},
   "outputs": [
    {
     "name": "stdout",
     "output_type": "stream",
     "text": [
      "Micaela\n",
      "29\n"
     ]
    }
   ],
   "source": [
    "print(nombre); print(edad) # se considera mala práctica, se trata de evitar porque puede confundir\n",
    "\n",
    "'''Puede generar que se rompa el programa.'''"
   ]
  },
  {
   "cell_type": "code",
   "execution_count": 4,
   "id": "b75e0ec0",
   "metadata": {},
   "outputs": [
    {
     "name": "stdout",
     "output_type": "stream",
     "text": [
      "Micaela\n",
      "29\n"
     ]
    }
   ],
   "source": [
    "print(f'''{nombre}\n",
    "{edad}''')"
   ]
  },
  {
   "cell_type": "code",
   "execution_count": 5,
   "id": "7de077ce",
   "metadata": {},
   "outputs": [
    {
     "name": "stdout",
     "output_type": "stream",
     "text": [
      "Micaela\n",
      "29\n"
     ]
    }
   ],
   "source": [
    "print(f'{nombre}\\n{edad}')"
   ]
  },
  {
   "cell_type": "markdown",
   "id": "6697781f",
   "metadata": {},
   "source": [
    "Ejercicio 4: Crear un programa que pregunte el nombre del usuario y un número\n",
    "entero e imprima por pantalla en líneas distintas el nombre del usuario tantas veces\n",
    "como el número introducido"
   ]
  },
  {
   "cell_type": "code",
   "execution_count": 6,
   "id": "bad782cf",
   "metadata": {},
   "outputs": [
    {
     "name": "stdout",
     "output_type": "stream",
     "text": [
      "¿Cuál es su nombre? Mica\n",
      "Ingrese un número. 2\n",
      "Mica\n",
      "Mica\n"
     ]
    }
   ],
   "source": [
    "nombre = input('¿Cuál es su nombre? ')\n",
    "numero = int(input('Ingrese un número. ')) # en este caso si o si se convierte en entero\n",
    "\n",
    "for i in range (numero):\n",
    "    print(nombre)\n"
   ]
  },
  {
   "cell_type": "code",
   "execution_count": 7,
   "id": "7ede8cbd",
   "metadata": {},
   "outputs": [
    {
     "name": "stdout",
     "output_type": "stream",
     "text": [
      "Mica\n",
      "Mica\n",
      "\n"
     ]
    }
   ],
   "source": [
    "print(f'{nombre}\\n' * numero)"
   ]
  },
  {
   "cell_type": "markdown",
   "id": "88260fd2",
   "metadata": {},
   "source": [
    "Ejercicio 5: Crear un programa que pregunte el nombre del usuario y después de que el usuario lo introduzca muestre por pantalla <NOMBRE> tiene <n> letras. (siempre que aparezca entre mayor y menos, ahi va una variable)"
   ]
  },
  {
   "cell_type": "code",
   "execution_count": 8,
   "id": "0a60eef3",
   "metadata": {},
   "outputs": [
    {
     "name": "stdout",
     "output_type": "stream",
     "text": [
      "Coloque su nombre: Micaela\n",
      "Micaela tiene 7 letras.\n"
     ]
    }
   ],
   "source": [
    "nombre = input('Coloque su nombre: ')\n",
    "n = 0 # se inicia en cero porque es un contador y porque es el neutral de la suma\n",
    "\n",
    "for letra in nombre:\n",
    "    n += 1\n",
    "print(f'{nombre} tiene {n} letras.')"
   ]
  },
  {
   "cell_type": "code",
   "execution_count": 9,
   "id": "85ba04ce",
   "metadata": {},
   "outputs": [
    {
     "name": "stdout",
     "output_type": "stream",
     "text": [
      "Coloque su nombre: Micaela\n",
      "Micaela tiene 7 letras.\n"
     ]
    }
   ],
   "source": [
    "# mejor forma de resolver este ejercicio\n",
    "\n",
    "nombre = input('Coloque su nombre: ')\n",
    "n = len(nombre) # len cuenta la cantidad de objetos iterables\n",
    "\n",
    "print(f'{nombre} tiene {n} letras.')"
   ]
  },
  {
   "cell_type": "markdown",
   "id": "37a2cd1e",
   "metadata": {},
   "source": [
    "Ejercicio 6: Crear un programa que realice la siguiente operación aritmética [(3+2)/2*5]2. Mostrar el resultado por pantalla."
   ]
  },
  {
   "cell_type": "code",
   "execution_count": 10,
   "id": "68ab1495",
   "metadata": {},
   "outputs": [
    {
     "name": "stdout",
     "output_type": "stream",
     "text": [
      "156.25\n"
     ]
    }
   ],
   "source": [
    "# sigue la lógica PEMDAS como todos los programas de programación\n",
    "\n",
    "''' primero va a ser la suma, despues va a dividir por el 2. Despues al resultado lo multiplica por 5. \n",
    "Y finalmente lo potencia por 2. Hay diferencias si uno encerrara el 2*5 entre parentesis'''\n",
    "\n",
    "resultado = ((3+2)/2*5)**2\n",
    "\n",
    "print(resultado)"
   ]
  },
  {
   "cell_type": "markdown",
   "id": "d3f34f70",
   "metadata": {},
   "source": [
    "Ejercicio 7: Crear un programa que pida al usuario dos números enteros y muestre por pantalla la división de n en m da un cociente c y un resto r donde n y m son los números introducidos por el usuario, y c y r son el cociente y el resto de la\n",
    "división entera respectivamente."
   ]
  },
  {
   "cell_type": "code",
   "execution_count": 11,
   "id": "7b53bdcf",
   "metadata": {},
   "outputs": [
    {
     "name": "stdout",
     "output_type": "stream",
     "text": [
      "Ingrese un número.6\n",
      "Ingrese un número.3\n",
      "2\n",
      "0\n"
     ]
    }
   ],
   "source": [
    "n = int(input('Ingrese un número.'))\n",
    "m = int(input('Ingrese un número.'))\n",
    "\n",
    "print(n // m)\n",
    "print(n % m)"
   ]
  },
  {
   "cell_type": "code",
   "execution_count": 12,
   "id": "39cff47f",
   "metadata": {},
   "outputs": [
    {
     "name": "stdout",
     "output_type": "stream",
     "text": [
      "Ingrese un número.6\n",
      "Ingrese un número.2\n",
      "El cociente es 3 y el resto es 0.\n"
     ]
    }
   ],
   "source": [
    "n = int(input('Ingrese un número.'))\n",
    "m = int(input('Ingrese un número.'))\n",
    "c, r = n // m , n % m\n",
    "\n",
    "print(f'El cociente es {c} y el resto es {r}.')"
   ]
  },
  {
   "cell_type": "markdown",
   "id": "1bff9682",
   "metadata": {},
   "source": [
    "Ejercicio 8: Crear un programa que pregunte al usuario una cantidad a invertir, el interés anual y el número de años, y muestre por pantalla el capital obtenido en la inversión.\n"
   ]
  },
  {
   "cell_type": "code",
   "execution_count": 14,
   "id": "e7003cd7",
   "metadata": {},
   "outputs": [
    {
     "name": "stdout",
     "output_type": "stream",
     "text": [
      "Ingrese el capital a invertir: 2500\n",
      "Ingrese el interés anual: 25\n",
      "Ingrese la cantidad de años a invertir: 4\n",
      "5000.0\n"
     ]
    }
   ],
   "source": [
    "capital = float(input('Ingrese el capital a invertir: '))\n",
    "interes_anual = float(input('Ingrese el interés anual: '))\n",
    "anios = int(input('Ingrese la cantidad de años a invertir: '))\n",
    "\n",
    "'''El if va a actuar si el usuario expresa el interes anual como un numero flotante. El else actua si lo expresa en forma de\n",
    "porcentaje'''\n",
    "\n",
    "if 0 < interes_anual <= 1:\n",
    "    capital_final = capital + capital * interes_anual * anios\n",
    "else:\n",
    "    interes_anual = interes_anual / 100\n",
    "    capital_final = capital + capital * interes_anual * anios\n",
    "\n",
    "print(capital_final)"
   ]
  },
  {
   "cell_type": "code",
   "execution_count": 15,
   "id": "63fa4b58",
   "metadata": {},
   "outputs": [
    {
     "name": "stdout",
     "output_type": "stream",
     "text": [
      "5000.0\n"
     ]
    }
   ],
   "source": [
    "#otra forma con menos lineas de código\n",
    "\n",
    "if interes_anual > 1:\n",
    "    interes_anual = interes_anual / 100\n",
    "capital_final = capital + capital * interes_anual * anios\n",
    "print(capital_final)"
   ]
  },
  {
   "cell_type": "markdown",
   "id": "1d4a06b2",
   "metadata": {},
   "source": [
    "Ejercicio 9: Una juguetería tiene mucho éxito en dos de sus productos: payasos y muñecas. Suele hacer venta por correo y la empresa de logística les cobra por el peso de cada paquete así que deben calcular el peso de los payasos y muñecas que saldrán\n",
    "en cada paquete a demanda. Cada payaso pesa 112 g y cada muñeca 75 g. Crear un programa que lea el número de payasos y muñecas vendidos en el último pedido y calcule el peso total del paquete que será enviado. Mostrar el resultado por pantalla."
   ]
  },
  {
   "cell_type": "code",
   "execution_count": 17,
   "id": "c6fa9720",
   "metadata": {},
   "outputs": [
    {
     "name": "stdout",
     "output_type": "stream",
     "text": [
      "Ingrese la cantidad de payasos: 2\n",
      "Ingrese la cantidad de muñecas: 1\n",
      "El peso del paquete es de 299 gramos.\n"
     ]
    }
   ],
   "source": [
    "\n",
    "cant_p = int(input('Ingrese la cantidad de payasos: '))\n",
    "cant_m = int(input('Ingrese la cantidad de muñecas: '))\n",
    "peso_p = 112 #gramos\n",
    "peso_m = 75 #gramos\n",
    "\n",
    "peso_pqt = cant_p * peso_p + cant_m * peso_m\n",
    "\n",
    "if peso_pqt < 1000:\n",
    "    print(f'El peso del paquete es de {peso_pqt} gramos.')\n",
    "else:\n",
    "    peso_pqt /= 1000\n",
    "    print(f'El peso del paquete es de {peso_pqt} kilos.')"
   ]
  },
  {
   "cell_type": "markdown",
   "id": "4cb4b1d0",
   "metadata": {},
   "source": [
    "Ejercicio 10: Crear un programa que pida al usuario su edad y muestra por pantalla si es mayor de edad o no, siendo 18 años la mayoría de edad."
   ]
  },
  {
   "cell_type": "code",
   "execution_count": 18,
   "id": "b6b727ba",
   "metadata": {},
   "outputs": [
    {
     "name": "stdout",
     "output_type": "stream",
     "text": [
      "Ingrese su edad: 28\n",
      "El usuario es mayor de edad.\n"
     ]
    }
   ],
   "source": [
    "edad = int(input('Ingrese su edad: '))\n",
    "\n",
    "if edad >= 18:\n",
    "    print('El usuario es mayor de edad.')\n",
    "else:\n",
    "    print('El usuario no es mayor de edad.')"
   ]
  },
  {
   "cell_type": "code",
   "execution_count": 21,
   "id": "bba483ba",
   "metadata": {},
   "outputs": [
    {
     "name": "stdout",
     "output_type": "stream",
     "text": [
      "El usuario es mayor de edad.\n"
     ]
    }
   ],
   "source": [
    "if 0 < edad < 18:\n",
    "    print('El usuario no es menor de edad.')\n",
    "elif edad >= 18:\n",
    "    print('El usuario es mayor de edad.')\n",
    "else:\n",
    "    print('El usuario no ha ingresado una edad correcta.')"
   ]
  },
  {
   "cell_type": "markdown",
   "id": "b45853b8",
   "metadata": {},
   "source": [
    "Ejercicio 11: Crear un programa que almacene la cadena de caracteres contraseña en una variable, pregunte al usuario por la contraseña e imprima por pantalla si la contraseña introducida por el usuario coincide con la guardada en la variable."
   ]
  },
  {
   "cell_type": "code",
   "execution_count": 22,
   "id": "60c917d6",
   "metadata": {},
   "outputs": [
    {
     "name": "stdout",
     "output_type": "stream",
     "text": [
      "Ingrese su contraseña: contraseña\n",
      "Las contraseñas coinciden.\n"
     ]
    }
   ],
   "source": [
    "contrasenia = 'contraseña'\n",
    "usuario = input('Ingrese su contraseña: ')\n",
    "\n",
    "if contrasenia == usuario:\n",
    "    print('Las contraseñas coinciden.')\n",
    "else:\n",
    "    print('Las contraseñas no coinciden.')"
   ]
  },
  {
   "cell_type": "code",
   "execution_count": 23,
   "id": "02724313",
   "metadata": {},
   "outputs": [
    {
     "name": "stdout",
     "output_type": "stream",
     "text": [
      "Ingrese su contraseña: contra\n",
      "Las contraseñas no coinciden.\n",
      "Ingrese su contraseña: hola\n",
      "Las contraseñas no coinciden.\n",
      "Ingrese su contraseña: contraseña\n",
      "Las contraseñas coinciden.\n"
     ]
    }
   ],
   "source": [
    "# haciendo lo mismo con while\n",
    "\n",
    "contrasenia = 'contraseña'\n",
    "usuario = input('Ingrese su contraseña: ')\n",
    "\n",
    "while True:\n",
    "    if contrasenia == usuario:\n",
    "        print('Las contraseñas coinciden.')\n",
    "        break\n",
    "    else:\n",
    "        print('Las contraseñas no coinciden.')\n",
    "        usuario = input('Ingrese su contraseña: ')"
   ]
  },
  {
   "cell_type": "markdown",
   "id": "e32bbe64",
   "metadata": {},
   "source": [
    "Ejercicio 12: Crear un programa que pida al usuario dos números y muestre por pantalla su división. Si el divisor es cero, el programa debe devolver un mensaje indicando que no se puede dividir por 0."
   ]
  },
  {
   "cell_type": "code",
   "execution_count": 24,
   "id": "40cb3e78",
   "metadata": {},
   "outputs": [
    {
     "name": "stdout",
     "output_type": "stream",
     "text": [
      "Ingrese un número: 20\n",
      "Ingrese otro número: 10\n",
      "2.0\n"
     ]
    }
   ],
   "source": [
    "num = int(input('Ingrese un número: '))\n",
    "num_2 = int(input('Ingrese otro número: '))\n",
    "\n",
    "if num_2 == 0:\n",
    "    print('No se puede dividir por 0.')\n",
    "else:\n",
    "    division = num / num_2\n",
    "    print(division)"
   ]
  },
  {
   "cell_type": "code",
   "execution_count": 25,
   "id": "ebe97825",
   "metadata": {},
   "outputs": [
    {
     "name": "stdout",
     "output_type": "stream",
     "text": [
      "2.0\n"
     ]
    }
   ],
   "source": [
    "while True:\n",
    "    if num_2 != 0:\n",
    "        division = num / num_2\n",
    "        print(division)\n",
    "        break\n",
    "    else:\n",
    "        print('No se puede dividir por 0.')\n",
    "        num_2 = int(input('Ingrese otro número: '))"
   ]
  },
  {
   "cell_type": "markdown",
   "id": "c7a4210f",
   "metadata": {},
   "source": [
    "Ejercicio 13: Crear un programa que pida al usuario un número entero y muestre por pantalla si es par o impar.\n"
   ]
  },
  {
   "cell_type": "code",
   "execution_count": 26,
   "id": "dbedcf2c",
   "metadata": {},
   "outputs": [
    {
     "name": "stdout",
     "output_type": "stream",
     "text": [
      "Ingrese un numero entero: 5\n",
      "Este número es impar.\n"
     ]
    }
   ],
   "source": [
    "'''tipico challenge es que te pidan recorrer un iterable y saber cuantos numeros son pares o impares. Para eso se usa el for, \n",
    "y este truco para saber si un numero es par o impar'''\n",
    "\n",
    "numero = int(input('Ingrese un numero entero: '))\n",
    "\n",
    "if numero % 2 == 0:\n",
    "    print('Este número es par.')\n",
    "else: \n",
    "    print('Este número es impar.')"
   ]
  },
  {
   "cell_type": "markdown",
   "id": "95fe2610",
   "metadata": {},
   "source": [
    "Ejercicio 14: En una determinada empresa, sus empleados son evaluados al final de cada año. Los puntos que pueden obtener en la evaluación comienzan en 0.0 y pueden ir aumentando, traduciéndose en mejores beneficios. Los puntos que pueden conseguir\n",
    "los empleados pueden ser 0.0, 0.4, 0.6 o más, pero no valores intermedios entre las cifras mencionadas. A continuación se muestra una tabla con los niveles correspondientes a cada puntuación. La cantidad de dinero conseguida en cada nivel\n",
    "es de 100000 multiplicada por la puntuación del nivel.Crear un programa que lea la puntuación del usuario e indique su nivel de rendimiento, así como la cantidad de dinero que recibirá el usuario.\n",
    "\n",
    "Inaceptable 0.0\n",
    "Aceptable 0.4\n",
    "Meritorio 0.6 o más"
   ]
  },
  {
   "cell_type": "code",
   "execution_count": 27,
   "id": "00ee6ac5",
   "metadata": {},
   "outputs": [
    {
     "name": "stdout",
     "output_type": "stream",
     "text": [
      "Indicar la puntuación del usuario: 0.6\n",
      "Su rendimiento es meritorio, recibirá 60000.0 pesos.\n"
     ]
    }
   ],
   "source": [
    "punt_us = float(input('Indicar la puntuación del usuario: '))\n",
    "inaceptable = 0.0\n",
    "aceptable = 0.4\n",
    "meritorio = 0.6\n",
    "bonif = 100000\n",
    "\n",
    "if punt_us == inaceptable:\n",
    "    bonif *= punt_us # bonif = bonif * punt_us\n",
    "    print(f'Su rendimiento es inaceptable, recibirá {bonif} pesos.')\n",
    "elif punt_us == aceptable:\n",
    "    bonif *= punt_us\n",
    "    print(f'Su rendimiento es aceptable, recibirá {bonif} pesos.')\n",
    "elif punt_us >= meritorio:\n",
    "    bonif *= punt_us\n",
    "    print(f'Su rendimiento es meritorio, recibirá {bonif} pesos.')\n",
    "else:\n",
    "    print('No ha ingresado una puntuación correcta')"
   ]
  },
  {
   "cell_type": "markdown",
   "id": "8b63505a",
   "metadata": {},
   "source": [
    "Ejercicio 15: Crear un programa para una empresa que tiene salas de juegos para todas las edades y quiere calcular de forma automática el precio que debe cobrar a sus clientes por entrar. El programa debe preguntar al usuario la edad del cliente y mostrar el precio de la entrada. Si el cliente es menor de 4 años puede entrar gratis, si tiene entre 4 y 18 años debe pagar 500 y si es mayor de 18 años, 1000."
   ]
  },
  {
   "cell_type": "code",
   "execution_count": 28,
   "id": "7a5092b0",
   "metadata": {},
   "outputs": [
    {
     "name": "stdout",
     "output_type": "stream",
     "text": [
      "Edad: 20\n",
      "Debe abonar 1000.\n"
     ]
    }
   ],
   "source": [
    "edad_cliente = int(input('Edad: '))\n",
    "\n",
    "if 0 < edad_cliente < 4:\n",
    "    print('Entra gratis, no abona entrada.')\n",
    "elif 4 <= edad_cliente < 18:\n",
    "    print('Debe abonar 500.')\n",
    "elif edad_cliente >= 18:\n",
    "    print('Debe abonar 1000.')\n",
    "else:\n",
    "    print('No ingresó una edad correcta')"
   ]
  },
  {
   "cell_type": "markdown",
   "id": "0d7d9c8d",
   "metadata": {},
   "source": [
    "Ejercicio 16: Crear un programa que pregunte al usuario su edad y muestre por pantalla todos los años que ha cumplido (desde 1 hasta su edad).\n"
   ]
  },
  {
   "cell_type": "code",
   "execution_count": 29,
   "id": "7fbb9e1c",
   "metadata": {},
   "outputs": [
    {
     "name": "stdout",
     "output_type": "stream",
     "text": [
      "Ingrese su edad: 10\n",
      "Ha cumplido 1\n",
      "Ha cumplido 2\n",
      "Ha cumplido 3\n",
      "Ha cumplido 4\n",
      "Ha cumplido 5\n",
      "Ha cumplido 6\n",
      "Ha cumplido 7\n",
      "Ha cumplido 8\n",
      "Ha cumplido 9\n",
      "Ha cumplido 10\n"
     ]
    }
   ],
   "source": [
    "edad_usuario = int(input('Ingrese su edad: '))\n",
    "\n",
    "for i in range(1, edad_usuario + 1):\n",
    "    print(f'Ha cumplido {i}')\n"
   ]
  },
  {
   "cell_type": "markdown",
   "id": "bddfcd60",
   "metadata": {},
   "source": [
    "Ejercicio 17: Crear un programa que muestre por pantalla la tabla de multiplicar del 1 al 10."
   ]
  },
  {
   "cell_type": "code",
   "execution_count": 30,
   "id": "c42063f5",
   "metadata": {},
   "outputs": [
    {
     "name": "stdout",
     "output_type": "stream",
     "text": [
      "Tabla de 1\n",
      "1 * 0 = 0\n",
      "1 * 1 = 1\n",
      "1 * 2 = 2\n",
      "1 * 3 = 3\n",
      "1 * 4 = 4\n",
      "1 * 5 = 5\n",
      "1 * 6 = 6\n",
      "1 * 7 = 7\n",
      "1 * 8 = 8\n",
      "1 * 9 = 9\n",
      "\n",
      "Tabla de 2\n",
      "2 * 0 = 0\n",
      "2 * 1 = 2\n",
      "2 * 2 = 4\n",
      "2 * 3 = 6\n",
      "2 * 4 = 8\n",
      "2 * 5 = 10\n",
      "2 * 6 = 12\n",
      "2 * 7 = 14\n",
      "2 * 8 = 16\n",
      "2 * 9 = 18\n",
      "\n",
      "Tabla de 3\n",
      "3 * 0 = 0\n",
      "3 * 1 = 3\n",
      "3 * 2 = 6\n",
      "3 * 3 = 9\n",
      "3 * 4 = 12\n",
      "3 * 5 = 15\n",
      "3 * 6 = 18\n",
      "3 * 7 = 21\n",
      "3 * 8 = 24\n",
      "3 * 9 = 27\n",
      "\n",
      "Tabla de 4\n",
      "4 * 0 = 0\n",
      "4 * 1 = 4\n",
      "4 * 2 = 8\n",
      "4 * 3 = 12\n",
      "4 * 4 = 16\n",
      "4 * 5 = 20\n",
      "4 * 6 = 24\n",
      "4 * 7 = 28\n",
      "4 * 8 = 32\n",
      "4 * 9 = 36\n",
      "\n",
      "Tabla de 5\n",
      "5 * 0 = 0\n",
      "5 * 1 = 5\n",
      "5 * 2 = 10\n",
      "5 * 3 = 15\n",
      "5 * 4 = 20\n",
      "5 * 5 = 25\n",
      "5 * 6 = 30\n",
      "5 * 7 = 35\n",
      "5 * 8 = 40\n",
      "5 * 9 = 45\n",
      "\n",
      "Tabla de 6\n",
      "6 * 0 = 0\n",
      "6 * 1 = 6\n",
      "6 * 2 = 12\n",
      "6 * 3 = 18\n",
      "6 * 4 = 24\n",
      "6 * 5 = 30\n",
      "6 * 6 = 36\n",
      "6 * 7 = 42\n",
      "6 * 8 = 48\n",
      "6 * 9 = 54\n",
      "\n",
      "Tabla de 7\n",
      "7 * 0 = 0\n",
      "7 * 1 = 7\n",
      "7 * 2 = 14\n",
      "7 * 3 = 21\n",
      "7 * 4 = 28\n",
      "7 * 5 = 35\n",
      "7 * 6 = 42\n",
      "7 * 7 = 49\n",
      "7 * 8 = 56\n",
      "7 * 9 = 63\n",
      "\n",
      "Tabla de 8\n",
      "8 * 0 = 0\n",
      "8 * 1 = 8\n",
      "8 * 2 = 16\n",
      "8 * 3 = 24\n",
      "8 * 4 = 32\n",
      "8 * 5 = 40\n",
      "8 * 6 = 48\n",
      "8 * 7 = 56\n",
      "8 * 8 = 64\n",
      "8 * 9 = 72\n",
      "\n",
      "Tabla de 9\n",
      "9 * 0 = 0\n",
      "9 * 1 = 9\n",
      "9 * 2 = 18\n",
      "9 * 3 = 27\n",
      "9 * 4 = 36\n",
      "9 * 5 = 45\n",
      "9 * 6 = 54\n",
      "9 * 7 = 63\n",
      "9 * 8 = 72\n",
      "9 * 9 = 81\n",
      "\n",
      "Tabla de 10\n",
      "10 * 0 = 0\n",
      "10 * 1 = 10\n",
      "10 * 2 = 20\n",
      "10 * 3 = 30\n",
      "10 * 4 = 40\n",
      "10 * 5 = 50\n",
      "10 * 6 = 60\n",
      "10 * 7 = 70\n",
      "10 * 8 = 80\n",
      "10 * 9 = 90\n",
      "\n"
     ]
    }
   ],
   "source": [
    "'''Cuando hay for anidado, no se pasa al for general hasta que no se terminen las interacciones del for anidado'''\n",
    "\n",
    "\n",
    "for i in range(1, 11): # 1, 10\n",
    "    print(f'Tabla de {i}')\n",
    "    for j in range(10):\n",
    "        print(f'{i} * {j} = {i*j}')\n",
    "    print()"
   ]
  },
  {
   "cell_type": "markdown",
   "id": "e51cb262",
   "metadata": {},
   "source": [
    "Ejercicio 18: Crear un programa que pida al usuario una palabra y luego muestre por pantalla una a una las letras de la palabra introducida empezando por la última."
   ]
  },
  {
   "cell_type": "code",
   "execution_count": 31,
   "id": "05b143af",
   "metadata": {},
   "outputs": [
    {
     "name": "stdout",
     "output_type": "stream",
     "text": [
      "Ingrese una palabra: Hola\n",
      "a\n",
      "l\n",
      "o\n",
      "H\n"
     ]
    }
   ],
   "source": [
    "\n",
    "palabra = input('Ingrese una palabra: ')\n",
    "\n",
    "for letra in palabra[::-1]:\n",
    "    print(letra)"
   ]
  },
  {
   "cell_type": "code",
   "execution_count": 32,
   "id": "4d11b9b1",
   "metadata": {},
   "outputs": [
    {
     "name": "stdout",
     "output_type": "stream",
     "text": [
      "a\n",
      "l\n",
      "o\n",
      "H\n"
     ]
    }
   ],
   "source": [
    "for letra in reversed(palabra):\n",
    "    print(letra)"
   ]
  },
  {
   "cell_type": "markdown",
   "id": "d2545fc6",
   "metadata": {},
   "source": [
    "Ejercicio 19: Crear un programa en el que se pregunte al usuario por una frase y una letra, y muestre por pantalla el número de veces que aparece la letra en la frase.\n"
   ]
  },
  {
   "cell_type": "code",
   "execution_count": 34,
   "id": "717f0386",
   "metadata": {},
   "outputs": [
    {
     "name": "stdout",
     "output_type": "stream",
     "text": [
      "Ingrese una frase: hola como estas\n",
      "Ingrese una letra: a\n",
      "La letra a aparece 2 en la frase.\n"
     ]
    }
   ],
   "source": [
    "frase = input('Ingrese una frase: ')\n",
    "letra = input('Ingrese una letra: ')\n",
    "\n",
    "print(f'La letra {letra} aparece {frase.count(letra)} en la frase.')\n",
    "\n"
   ]
  },
  {
   "cell_type": "code",
   "execution_count": 35,
   "id": "0734bc98",
   "metadata": {},
   "outputs": [
    {
     "name": "stdout",
     "output_type": "stream",
     "text": [
      "Ingrese una frase: buenos diasssssssssssssssss\n",
      "Ingrese una letra: s\n",
      "La letra s aparece 18 en la frase.\n"
     ]
    }
   ],
   "source": [
    "frase = input('Ingrese una frase: ')\n",
    "letra = input('Ingrese una letra: ')\n",
    "\n",
    "cant_veces = 0 #contador\n",
    "\n",
    "for caracter in frase:\n",
    "    if caracter == letra:\n",
    "        cant_veces += 1\n",
    "print(f'La letra {letra} aparece {cant_veces} en la frase.')"
   ]
  },
  {
   "cell_type": "markdown",
   "id": "41b07dbf",
   "metadata": {},
   "source": [
    "Ejercicio 20: Crear un programa que muestre el eco de todo lo que el usuario introduzca hasta que el usuario escriba “salir” que terminará.\n"
   ]
  },
  {
   "cell_type": "code",
   "execution_count": 36,
   "id": "17761c05",
   "metadata": {},
   "outputs": [
    {
     "name": "stdout",
     "output_type": "stream",
     "text": [
      "Ingrese una palabra: Hola\n",
      "Hola\n",
      "Ingrese una palabra o escriba \"salir\" para terminar: lala\n",
      "lala\n",
      "Ingrese una palabra o escriba \"salir\" para terminar: salir\n"
     ]
    }
   ],
   "source": [
    "#se suele tomar en challenges\n",
    "\n",
    "palabra = input('Ingrese una palabra: ')\n",
    "\n",
    "while palabra != 'salir':\n",
    "    print(palabra)\n",
    "    palabra = input('Ingrese una palabra o escriba \"salir\" para terminar: ')\n",
    "    "
   ]
  },
  {
   "cell_type": "code",
   "execution_count": 37,
   "id": "c8d3ee54",
   "metadata": {},
   "outputs": [
    {
     "name": "stdout",
     "output_type": "stream",
     "text": [
      "Ingrese una palabra o escriba \"salir\" para terminar: hola\n",
      "hola\n",
      "Ingrese una palabra o escriba \"salir\" para terminar: asf\n",
      "asf\n",
      "Ingrese una palabra o escriba \"salir\" para terminar: salir\n"
     ]
    }
   ],
   "source": [
    "while True:\n",
    "    palabra = input('Ingrese una palabra o escriba \"salir\" para terminar: ')\n",
    "    if palabra != 'salir':\n",
    "        print(palabra)\n",
    "    else:\n",
    "        break\n",
    "        \n",
    "    "
   ]
  },
  {
   "cell_type": "markdown",
   "id": "e677cc65",
   "metadata": {},
   "source": [
    "Ejercicio 21: Crear un programa que almacene las asignaturas de un curso (por ejemplo Matemáticas, Física, Química, Historia y Lengua) en una lista y muestre por pantalla el mensaje “Yo estudio asignatura”, donde asignatura es cada una de las asignaturas de la lista.\n"
   ]
  },
  {
   "cell_type": "code",
   "execution_count": 38,
   "id": "35f9c667",
   "metadata": {},
   "outputs": [
    {
     "name": "stdout",
     "output_type": "stream",
     "text": [
      "Yo estudio Matemáticas.\n",
      "Yo estudio Física.\n",
      "Yo estudio Química.\n",
      "Yo estudio Historia.\n",
      "Yo estudio Lengua.\n"
     ]
    }
   ],
   "source": [
    "lista_asignaturas = ['Matemáticas', 'Física', 'Química', 'Historia', 'Lengua']\n",
    "\n",
    "for materia in lista_asignaturas:\n",
    "    print(f'Yo estudio {materia}.')"
   ]
  },
  {
   "cell_type": "markdown",
   "id": "3cfb918a",
   "metadata": {},
   "source": [
    "Ejercicio 22: Crear un programa que guarde en un diccionario los precios de las frutas de la tabla, pregunte al usuario por una fruta, un número de kilos y muestre por pantalla el precio de ese número de kilos de fruta. Si la fruta no está en el diccionario debe mostrar un mensaje informando de ello.Fruta\n",
    "Banana: 80-\n",
    "Manzana:100-\n",
    "Pera: 120-\n",
    "Naranja: 150\n"
   ]
  },
  {
   "cell_type": "code",
   "execution_count": 41,
   "id": "9fddebe2",
   "metadata": {},
   "outputs": [
    {
     "name": "stdout",
     "output_type": "stream",
     "text": [
      "Ingrese una fruta: banana\n",
      "Ingrese la cantidad de kilos: 10\n",
      "Debe pagar 800.0 pesos.\n"
     ]
    }
   ],
   "source": [
    "frutas = {\n",
    "    'Banana': 80,\n",
    "    'Manzana': 100,\n",
    "    'Pera': 120,\n",
    "    'Naranja': 150,\n",
    "}\n",
    "\n",
    "fruta = input('Ingrese una fruta: ').capitalize()  #para que no importe si el usuario escribe en minuscula o mayuscula\n",
    "kilos = float(input('Ingrese la cantidad de kilos: '))\n",
    "\n",
    "if fruta in frutas:\n",
    "    precio = frutas[fruta] * kilos\n",
    "    print(f'Debe pagar {precio} pesos.')\n",
    "\n",
    "else:\n",
    "    print('La fruta no está en el diccionario.')\n",
    "\n",
    "# volver a repasar diccionarios\n",
    "\n",
    "\n",
    "\n",
    "    "
   ]
  },
  {
   "cell_type": "markdown",
   "id": "2e312484",
   "metadata": {},
   "source": [
    "Ejercicio 23:Crear un programa que almacene el diccionario con los créditos de las asignaturas de un curso {'Matemáticas': 6, 'Física': 4, 'Química': 5} y después muestre por pantalla los créditos de cada asignatura en el formato asignatura tiene créditos créditos, donde asignatura es cada una de las asignaturas del curso, y créditos son sus créditos. Al final debe mostrar también el número total de créditos del curso."
   ]
  },
  {
   "cell_type": "code",
   "execution_count": 43,
   "id": "cb3e3f90",
   "metadata": {},
   "outputs": [
    {
     "name": "stdout",
     "output_type": "stream",
     "text": [
      "Matemáticas tiene 6 creditos.\n",
      "Física tiene 4 creditos.\n",
      "Química tiene 5 creditos.\n",
      "El total de créditos es 15.\n"
     ]
    }
   ],
   "source": [
    "materias = {'Matemáticas': 6, 'Física': 4, 'Química': 5}\n",
    "total_cred = 0\n",
    "\n",
    "for i, k in materias.items():\n",
    "    print(f'{i} tiene {k} creditos.')\n",
    "    total_cred += k\n",
    "print(f'El total de créditos es {total_cred}.') # tiene que estar afuera del for para que no se repita "
   ]
  },
  {
   "cell_type": "code",
   "execution_count": null,
   "id": "0275b7ac",
   "metadata": {},
   "outputs": [],
   "source": []
  }
 ],
 "metadata": {
  "kernelspec": {
   "display_name": "Python 3",
   "language": "python",
   "name": "python3"
  },
  "language_info": {
   "codemirror_mode": {
    "name": "ipython",
    "version": 3
   },
   "file_extension": ".py",
   "mimetype": "text/x-python",
   "name": "python",
   "nbconvert_exporter": "python",
   "pygments_lexer": "ipython3",
   "version": "3.8.8"
  }
 },
 "nbformat": 4,
 "nbformat_minor": 5
}
