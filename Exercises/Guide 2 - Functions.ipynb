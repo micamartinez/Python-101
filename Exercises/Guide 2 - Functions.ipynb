{
 "cells": [
  {
   "cell_type": "markdown",
   "id": "da7f3403",
   "metadata": {},
   "source": [
    "_____\n",
    "**Exercise 1**\n",
    "\n",
    "Create a function that asks the user for the width and length of a rectangle and draws it with the product characters (*)."
   ]
  },
  {
   "cell_type": "code",
   "execution_count": 1,
   "id": "7837a88b",
   "metadata": {},
   "outputs": [
    {
     "name": "stdout",
     "output_type": "stream",
     "text": [
      "Enter the length of the rectangle: 7\n",
      "Enter the width of the rectangle: 5\n",
      "*******\n",
      "*******\n",
      "*******\n",
      "*******\n",
      "*******\n"
     ]
    }
   ],
   "source": [
    "def rectangle(character='*'):\n",
    "    '''Draws a rectangle using the character \"*\"\n",
    "       with the given width and length'''\n",
    "    length = int(input('Enter the length of the rectangle: '))\n",
    "    width = int(input('Enter the width of the rectangle: '))  \n",
    "    for i in range(width):\n",
    "        print(f'{length*character}') \n",
    "     \n",
    "    \n",
    "rectangle()"
   ]
  },
  {
   "cell_type": "markdown",
   "id": "01688ef9",
   "metadata": {},
   "source": [
    "_____\n",
    "**Exercise 2**\n",
    "\n",
    "Create a function that asks the user for the width and length of a rectangle and also the character to draw it, for example a circle represented by the letter o."
   ]
  },
  {
   "cell_type": "code",
   "execution_count": 2,
   "id": "38e3e759",
   "metadata": {},
   "outputs": [
    {
     "name": "stdout",
     "output_type": "stream",
     "text": [
      "Enter the length of the rectangle: 7\n",
      "Enter the width of the rectangle: 5\n",
      "Enter a character: /\n",
      "///////\n",
      "///////\n",
      "///////\n",
      "///////\n",
      "///////\n"
     ]
    }
   ],
   "source": [
    "def rectangle_2():\n",
    "    '''Draws a rectangle with the given\n",
    "       character, width and length'''\n",
    "    length = int(input('Enter the length of the rectangle: '))\n",
    "    width = int(input('Enter the width of the rectangle: '))\n",
    "    character = input('Enter a character: ')    \n",
    "    for i in range(width):\n",
    "        print(f'{length*character}') \n",
    "\n",
    "        \n",
    "rectangle_2()"
   ]
  },
  {
   "cell_type": "markdown",
   "id": "206d1c76",
   "metadata": {},
   "source": [
    "_____\n",
    "**Exercise 3**\n",
    "\n",
    "Create a function that asks for a year and writes if it is leap or not. Remember that leap years are multiples of 4, but multiples of 100 are not, although multiples of 400 are. Here are some examples of possible answers: 2012 is leap, 2010 is not leap, 2000 is leap, 1900 is not leap."
   ]
  },
  {
   "cell_type": "code",
   "execution_count": 3,
   "id": "14029ee1",
   "metadata": {},
   "outputs": [
    {
     "name": "stdout",
     "output_type": "stream",
     "text": [
      "Enter a year: 1900\n",
      "1900 is not a leap year.\n"
     ]
    }
   ],
   "source": [
    "def leap_year():\n",
    "    '''Determinates if the year that the user\n",
    "       entered is a leap year or not'''\n",
    "    year = int(input('Enter a year: '))    \n",
    "    if year % 4 == 0 and (year % 100 != 0 or year % 400 == 0):\n",
    "        print(f'{year} is a leap year.')\n",
    "    else: \n",
    "        print(f'{year} is not a leap year.')\n",
    "\n",
    "        \n",
    "leap_year()"
   ]
  },
  {
   "cell_type": "markdown",
   "id": "b709daa4",
   "metadata": {},
   "source": [
    "_____\n",
    "**Exercise 4**\n",
    "\n",
    "Create a function that asks for two years and writes how many leap years there are between those two dates (both years included)."
   ]
  },
  {
   "cell_type": "code",
   "execution_count": 4,
   "id": "be703d52",
   "metadata": {},
   "outputs": [
    {
     "name": "stdout",
     "output_type": "stream",
     "text": [
      "Enter a year: 2000\n",
      "Enter a later year: 1900\n",
      "You must enter a later year\n",
      "Enter a later year: 2020\n",
      "Between 2000 and 2020 there are 6 leap years.\n"
     ]
    }
   ],
   "source": [
    "def leap_year_2():\n",
    "    '''Counts the number of leap years\n",
    "       between the years given by the user'''\n",
    "    year_1 = int(input('Enter a year: '))\n",
    "    year_2 = int(input('Enter a later year: '))\n",
    "    empty_list = []\n",
    "    while True: \n",
    "        if year_1 < year_2:\n",
    "            for i in range(year_1, year_2 + 1):\n",
    "                if i % 4 == 0 and (i % 100 != 0 or i % 400 == 0):\n",
    "                    empty_list.append(i)\n",
    "                    list_leap = len(empty_list)\n",
    "            print(f'Between {year_1} and {year_2} there are {list_leap} leap years.')\n",
    "            break\n",
    "        else:\n",
    "            print('You must enter a later year')\n",
    "            year_2 = int(input('Enter a later year: '))\n",
    "        \n",
    "\n",
    "leap_year_2()"
   ]
  },
  {
   "cell_type": "markdown",
   "id": "15b9bba3",
   "metadata": {},
   "source": [
    "_____\n",
    "**Exercise 5**\n",
    "\n",
    "Create a function that asks how many lists you want to create, the number of words and wich words you want in every list."
   ]
  },
  {
   "cell_type": "code",
   "execution_count": 5,
   "id": "44ae1f70",
   "metadata": {},
   "outputs": [
    {
     "name": "stdout",
     "output_type": "stream",
     "text": [
      "List creator\n",
      "How many lists you want to create?: 2\n",
      "How many words got the list 1?: 3\n",
      "Write the word 1: apple\n",
      "Write the word 2: banana\n",
      "Write the word 3: orange\n",
      "The list 1 is: ['apple', 'banana', 'orange']\n",
      "How many words got the list 2?: 5\n",
      "Write the word 1: cake\n",
      "Write the word 2: chocolate\n",
      "Write the word 3: candy\n",
      "Write the word 4: cupcake\n",
      "Write the word 5: cookie\n",
      "The list 2 is: ['cake', 'chocolate', 'candy', 'cupcake', 'cookie']\n"
     ]
    }
   ],
   "source": [
    "def list_creator():\n",
    "    '''Creates the number of lists given, with the\n",
    "       number of elements given'''\n",
    "    print('List creator')\n",
    "    number_lists = int(input('How many lists you want to create?: '))    \n",
    "    for i in range(number_lists):\n",
    "        lists = []\n",
    "        number_words = int(input(f'How many words got the list {i + 1}?: '))\n",
    "        for j in range(number_words):\n",
    "            word = input(f'Write the word {j + 1}: ')\n",
    "            lists.append(word)   \n",
    "        print(f'The list {i + 1} is: {lists}')\n",
    "\n",
    "                           \n",
    "list_creator()          "
   ]
  },
  {
   "cell_type": "markdown",
   "id": "4c49de25",
   "metadata": {},
   "source": [
    "_____\n",
    "**Exercise 6**\n",
    "\n",
    "Create a function that receives two numbers and returns \"greater\" (if the first number is greater than the second), \"less\", or \"equal\"."
   ]
  },
  {
   "cell_type": "code",
   "execution_count": 6,
   "id": "6f8328b5",
   "metadata": {},
   "outputs": [
    {
     "name": "stdout",
     "output_type": "stream",
     "text": [
      "Greater\n"
     ]
    }
   ],
   "source": [
    "def numbers(n, m):        \n",
    "    if n > m:\n",
    "        print('Greater')\n",
    "    elif n < m:\n",
    "        print('Less')\n",
    "    elif n == m:\n",
    "        print('Equal')\n",
    "        \n",
    "        \n",
    "numbers(10, 5)"
   ]
  },
  {
   "cell_type": "markdown",
   "id": "9b3e9d59",
   "metadata": {},
   "source": [
    "_____\n",
    "**Exercise 7**\n",
    "\n",
    "Make a program that generates a random integer (random module) between 0 and 1000, and asks the user to enter integers to guess. If the user enters a number less than the target, it must show \"It is higher!\"; if the user enters a higher one, it shows \"It is lower!\"; if the user is correct, it displays \"Viva Python!\", and exits. If the user was unsuccessful in 7 attempts, display \"Oops you lose!\" and I finished."
   ]
  },
  {
   "cell_type": "code",
   "execution_count": 7,
   "id": "dbf4026a",
   "metadata": {},
   "outputs": [
    {
     "name": "stdout",
     "output_type": "stream",
     "text": [
      "Enter a number between 1 and 1000: 500\n",
      "It is lower!\n",
      "Enter a number between 1 and 1000: 250\n",
      "It is lower!\n",
      "Enter a number between 1 and 1000: 150\n",
      "It is higher!\n",
      "Enter a number between 1 and 1000: 200\n",
      "It is higher!\n",
      "Enter a number between 1 and 1000: 225\n",
      "It is lower!\n",
      "Enter a number between 1 and 1000: 215\n",
      "It is higher!\n",
      "Enter a number between 1 and 1000: 220\n",
      "It is higher!\n",
      "Oops you lose!\n"
     ]
    }
   ],
   "source": [
    "import random \n",
    "\n",
    "\n",
    "def game():\n",
    "    '''Creates a random number, the user got 7 attemps \n",
    "       to guess said number'''\n",
    "    for i in range(7): \n",
    "        number = random.randint(1, 1001) \n",
    "        number_user = int(input('Enter a number between 1 and 1000: '))\n",
    "        if number_user < number:\n",
    "            print('It is higher!')\n",
    "        elif number_user > number:\n",
    "            print('It is lower!')\n",
    "        elif number_user == number:\n",
    "            print('Viva Python!')\n",
    "            break\n",
    "    else:\n",
    "        print('Oops you lose!')\n",
    "\n",
    "\n",
    "game()"
   ]
  },
  {
   "cell_type": "markdown",
   "id": "d860d2f7",
   "metadata": {},
   "source": [
    "_____\n",
    "**Exercise 8**\n",
    "\n",
    "Create a function that receives a text and returns the same text but with each word reversed. For example, calling it with \"This is a test\", it should return \"sihT si a tset\"."
   ]
  },
  {
   "cell_type": "code",
   "execution_count": 8,
   "id": "1ffb7e3f",
   "metadata": {},
   "outputs": [
    {
     "name": "stdout",
     "output_type": "stream",
     "text": [
      "sihT si a tset\n"
     ]
    }
   ],
   "source": [
    "def reverse(sentence):\n",
    "    '''reverses every word of the \n",
    "       given string'''\n",
    "    sentence = sentence.split()   \n",
    "    reversed_sentence = []\n",
    "    for word in sentence:\n",
    "        word = word[::-1] \n",
    "        reversed_sentence.append(word)\n",
    "    sentence = ' '.join(reversed_sentence) \n",
    "    print(sentence)\n",
    "\n",
    "    \n",
    "reverse('This is a test')"
   ]
  },
  {
   "cell_type": "markdown",
   "id": "689710bf",
   "metadata": {},
   "source": [
    "_____\n",
    "**Exercise 9**\n",
    "\n",
    "Create a function that receives two words and then prints line by line the first letter of each word, the second, etc."
   ]
  },
  {
   "cell_type": "code",
   "execution_count": 9,
   "id": "d8a19326",
   "metadata": {},
   "outputs": [
    {
     "name": "stdout",
     "output_type": "stream",
     "text": [
      "H w\n",
      "e o\n",
      "l r\n",
      "l l\n",
      "o d\n"
     ]
    }
   ],
   "source": [
    "def columns_words(w1, w2):\n",
    "    '''prints two given words next to \n",
    "       each other in a column shape'''\n",
    "    if len(w1) != len(w2):\n",
    "        longer_word = max(len(w1), len(w2)) # know the word with more letters\n",
    "        w1 = w1.ljust(longer_word) # it adds a blank space to the end if required\n",
    "        w2 = w2.ljust(longer_word)\n",
    "    for i, k in zip(w1, w2): \n",
    "        print(i,k)\n",
    "        \n",
    "\n",
    "columns_words('Hello','world')"
   ]
  },
  {
   "cell_type": "markdown",
   "id": "c9418f0b",
   "metadata": {},
   "source": [
    "_____\n",
    "**Exercise 10**\n",
    "\n",
    "Create a function that receives a tuple and returns whether the tuple is ordered (from least to greatest) or not."
   ]
  },
  {
   "cell_type": "code",
   "execution_count": 10,
   "id": "5281d112",
   "metadata": {},
   "outputs": [
    {
     "name": "stdout",
     "output_type": "stream",
     "text": [
      "The tuple is ordered in an increasing way.\n"
     ]
    }
   ],
   "source": [
    "def ordered_tuple(t):\n",
    "    '''receives a tuple and returns whether \n",
    "       the tuple is ordered or not'''\n",
    "    tuple_ord = list(t)  \n",
    "    tuple_ord.sort() \n",
    "    tuple_ord = tuple(tuple_ord) \n",
    "    if t == tuple_ord:\n",
    "        print('The tuple is ordered in an increasing way.')\n",
    "    else:\n",
    "        print('The tuple is not ordered in an increasing way.')\n",
    "\n",
    "        \n",
    "ordered_tuple((1, 2, 3, 4, 5))   "
   ]
  },
  {
   "cell_type": "markdown",
   "id": "ea0282b2",
   "metadata": {},
   "source": [
    "_____\n",
    "**Exercise 11**\n",
    "\n",
    "Create two functions: one that allows you to convert from seconds to hours, minutes and seconds, and the other that allows you to convert from hours, minutes and seconds to seconds."
   ]
  },
  {
   "cell_type": "code",
   "execution_count": 11,
   "id": "02cfd6fa",
   "metadata": {},
   "outputs": [
    {
     "name": "stdout",
     "output_type": "stream",
     "text": [
      "2 hours 50 minutes 50 seconds\n",
      "10250 seconds\n"
     ]
    }
   ],
   "source": [
    "def seconds_to_hours(seconds):\n",
    "    '''converts the given seconds \n",
    "       to hours, minutes and seconds'''\n",
    "    minutes = seconds // 60\n",
    "    seconds = seconds % 60\n",
    "    if minutes >= 60:\n",
    "        hours = minutes // 60\n",
    "        minutes_2 = minutes % 60\n",
    "        print(f'{hours} hours {minutes_2} minutes {seconds} seconds')\n",
    "    elif 0 < minutes < 60:\n",
    "        print(f'{minutes} minutes {seconds} seconds')              \n",
    "    else:       \n",
    "        print(f'{seconds} seconds')\n",
    "\n",
    "        \n",
    "def hours_to_seconds(h,m,s):\n",
    "    '''converts the given hours,  \n",
    "       minutes and seconds to seconds '''\n",
    "    seconds = h*3600 + m*60 + s\n",
    "    print(f'{seconds} seconds')\n",
    "  \n",
    "\n",
    "seconds_to_hours(10250)\n",
    "hours_to_seconds(2, 50, 50)"
   ]
  },
  {
   "cell_type": "markdown",
   "id": "bed6775b",
   "metadata": {},
   "source": [
    "_____\n",
    "**Exercise 12**\n",
    "\n",
    "Create a function that receives 3 numbers and returns which is the greatest, which is the lowest, and which is the mean of the 3 numbers."
   ]
  },
  {
   "cell_type": "code",
   "execution_count": 12,
   "id": "517ebe61",
   "metadata": {},
   "outputs": [
    {
     "name": "stdout",
     "output_type": "stream",
     "text": [
      "The greatest number is 6, the lowest number is 3 and the mean is 4.67\n"
     ]
    }
   ],
   "source": [
    "def numbers(n1, n2, n3):\n",
    "    '''receives three numbers and returns \n",
    "       the greatest, the lowest and the mean'''\n",
    "    greatest = max(n1, n2, n3)\n",
    "    lowest = min(n1, n2, n3)\n",
    "    mean = sum([n1, n2, n3]) / len([n1, n2, n3]) \n",
    "    print(f'The greatest number is {greatest}, the lowest number is {lowest} and the mean is {mean:.2f}') \n",
    "\n",
    "    \n",
    "numbers(3, 5, 6)"
   ]
  },
  {
   "cell_type": "markdown",
   "id": "fc2332ae",
   "metadata": {},
   "source": [
    "_____\n",
    "**Exercise 13**\n",
    "\n",
    "Create a function that takes a list of words and returns which one is the longest and how many characters it has."
   ]
  },
  {
   "cell_type": "code",
   "execution_count": 13,
   "id": "b5666158",
   "metadata": {},
   "outputs": [
    {
     "name": "stdout",
     "output_type": "stream",
     "text": [
      " welcome    is the longest word and has 7 characters.\n"
     ]
    }
   ],
   "source": [
    "def list_words(*word):\n",
    "    '''determines which is the longest word and\n",
    "       how many characters it has'''\n",
    "    for i in word:\n",
    "        longest = max(word, key=len)\n",
    "        number_letters = len(longest) - longest.count(' ') # doesn't count blank spaces      \n",
    "    print(f'{longest} is the longest word and has {number_letters} characters.')\n",
    "    \n",
    "\n",
    "list_words('list', 'apple','hello', ' welcome   ', 'red')"
   ]
  }
 ],
 "metadata": {
  "kernelspec": {
   "display_name": "Python 3",
   "language": "python",
   "name": "python3"
  },
  "language_info": {
   "codemirror_mode": {
    "name": "ipython",
    "version": 3
   },
   "file_extension": ".py",
   "mimetype": "text/x-python",
   "name": "python",
   "nbconvert_exporter": "python",
   "pygments_lexer": "ipython3",
   "version": "3.8.8"
  }
 },
 "nbformat": 4,
 "nbformat_minor": 5
}
