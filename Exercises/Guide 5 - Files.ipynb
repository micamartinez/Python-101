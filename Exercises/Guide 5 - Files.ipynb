{
 "cells": [
  {
   "cell_type": "markdown",
   "id": "6ed9f424",
   "metadata": {},
   "source": [
    "_____\n",
    "Create a script that reads the data from a text file, transforms each row into a dictionary and add it to a list called people.\n",
    "Then go through the people on the list and for each one it must show in a friendly way all its fields.\n",
    "The text file will be called people.txt and it will have the following plain text content (create it beforehanded):\n",
    "\n",
    "1;Carlos;Pérez;05/01/1989\n",
    "\n",
    "2;Manuel;Heredia;26/12/1973\n",
    "\n",
    "3;Rosa;Campos;12/06/1961\n",
    "\n",
    "4;David;García;25/07/2006\n",
    "\n",
    "Dictionary fields will be in order: id, name, last name y date of birth."
   ]
  },
  {
   "cell_type": "code",
   "execution_count": 1,
   "id": "637e65ea",
   "metadata": {},
   "outputs": [
    {
     "name": "stdout",
     "output_type": "stream",
     "text": [
      "['1;Carlos;Pérez;05/01/1989\\n', '2;Manuel;Heredia;26/12/1973\\n', '3;Rosa;Campos;12/06/1961\\n', '4;David;García;25/07/2006\\n']\n"
     ]
    }
   ],
   "source": [
    "keys = ('id', 'name', 'last name', 'date of birth')\n",
    "\n",
    "with open(r'people.txt', 'r+', encoding=\"utf8\") as f:\n",
    "    file_content = f.readlines() \n",
    "\n",
    "print(file_content)  "
   ]
  },
  {
   "cell_type": "code",
   "execution_count": 2,
   "id": "b9173d1d",
   "metadata": {},
   "outputs": [
    {
     "name": "stdout",
     "output_type": "stream",
     "text": [
      "[{'id': '1', 'name': 'Carlos', 'last name': 'Pérez', 'date of birth': '05/01/1989'}, {'id': '2', 'name': 'Manuel', 'last name': 'Heredia', 'date of birth': '26/12/1973'}, {'id': '3', 'name': 'Rosa', 'last name': 'Campos', 'date of birth': '12/06/1961'}, {'id': '4', 'name': 'David', 'last name': 'García', 'date of birth': '25/07/2006'}]\n"
     ]
    }
   ],
   "source": [
    "people = []  \n",
    "person = {}\n",
    "\n",
    "for line in file_content:\n",
    "    value = line.replace('\\n', '').split(';')\n",
    "    person = dict(zip(keys, value)) \n",
    "    people.append(person)\n",
    "print(people)"
   ]
  },
  {
   "cell_type": "code",
   "execution_count": 3,
   "id": "d4f5b1da",
   "metadata": {},
   "outputs": [
    {
     "name": "stdout",
     "output_type": "stream",
     "text": [
      "Carlos Pérez\n",
      "id --> 1\n",
      "name --> Carlos\n",
      "last name --> Pérez\n",
      "date of birth --> 05/01/1989\n",
      "\n",
      "Manuel Heredia\n",
      "id --> 2\n",
      "name --> Manuel\n",
      "last name --> Heredia\n",
      "date of birth --> 26/12/1973\n",
      "\n",
      "Rosa Campos\n",
      "id --> 3\n",
      "name --> Rosa\n",
      "last name --> Campos\n",
      "date of birth --> 12/06/1961\n",
      "\n",
      "David García\n",
      "id --> 4\n",
      "name --> David\n",
      "last name --> García\n",
      "date of birth --> 25/07/2006\n",
      "\n"
     ]
    }
   ],
   "source": [
    "for data in people:\n",
    "    name = data['name']\n",
    "    last_name = data['last name']\n",
    "    print(f'{name} {last_name}')\n",
    "    for i, k in data.items():\n",
    "        print(f'{i} --> {k}')\n",
    "    print()"
   ]
  }
 ],
 "metadata": {
  "kernelspec": {
   "display_name": "Python 3",
   "language": "python",
   "name": "python3"
  },
  "language_info": {
   "codemirror_mode": {
    "name": "ipython",
    "version": 3
   },
   "file_extension": ".py",
   "mimetype": "text/x-python",
   "name": "python",
   "nbconvert_exporter": "python",
   "pygments_lexer": "ipython3",
   "version": "3.8.8"
  }
 },
 "nbformat": 4,
 "nbformat_minor": 5
}
